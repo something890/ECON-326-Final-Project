{
 "cells": [
  {
   "cell_type": "markdown",
   "id": "8f80b1a0-449d-45a3-9dcb-816cd6d7930e",
   "metadata": {},
   "source": [
    "# ECON 326 Group Final Report\n",
    "#### Group 14 - Bhavya Dubey, Kashie Ugoji, Ruiquin Wang, Zhuoying Sun"
   ]
  },
  {
   "cell_type": "markdown",
   "id": "6d6d65bb-26c8-45ae-b6fd-69a1df6f8e28",
   "metadata": {},
   "source": [
    "## <u>Introduction<u>"
   ]
  },
  {
   "cell_type": "markdown",
   "id": "ad88ac84-f7bc-4467-8ec5-e948c3eb8036",
   "metadata": {},
   "source": [
    "When looking at the current nature of the financial markets, it is clear how much influence they have in our society. With around 63% of young adults (ages 18-34) **(remember to cite)** believing in building their wealth through the stock exchange, it shows how much of a focal point this aspect of our economy is for many people. More than ever, the ability to understand how the markets work and components that might affect it, is becoming an invaluable skill. With so much information readily available, it can sometimes feel like there is an oversaturated level of things that people must learn in order to form even a basic understanding of expected stock market performance. However, one of the basic things that people quickly realize, is that the collective sentiment of consumers and investors ultimately has a major influence on how markets perform.  \n",
    "\n",
    "One of the phrases financial experts will say to people is to not \"panic\" during economic uncertainty as this may end up being the very origin of economic downturn. But how true is this claim? What if panicking and overall sentiments of fear are simply reactions to already existing economic instability caused by other factors, rather than potential indicators of future downturn in itself. For this research study, we explore this very topic. We are looking to explore the predictive nature that overall sentiments towards the economy can have on the stock market. More specifically, we want to see if **people's feelings of fear or uncertainty towards the economy can accurately predict stock market performance**. "
   ]
  },
  {
   "cell_type": "markdown",
   "id": "8c0dced4-f574-47ea-828b-42463c0710e7",
   "metadata": {},
   "source": [
    "## <u>Data Description<u>"
   ]
  },
  {
   "cell_type": "markdown",
   "id": "4fbb1d27-b124-48e5-9279-f25e944c1d12",
   "metadata": {},
   "source": [
    "To conduct this analysis, we will be looking at data that is able to accurately quantify both the sentiment people have towards the economy, and also how stocks will be performing. "
   ]
  },
  {
   "cell_type": "markdown",
   "id": "f6f85457-d104-402d-9a2f-ce11dd41500d",
   "metadata": {},
   "source": [
    "### Fear Index Wrangling"
   ]
  },
  {
   "cell_type": "markdown",
   "id": "d6288962-05ae-4920-bb70-67f0c54f657f",
   "metadata": {},
   "source": [
    "We will quantify the **sentiment of \"fear\"** that people have towards the economy through **search-term data from Google Trends**. Google Trends uses relative popularity scores ranging from 0-100 in order to quantify how much a term was searched on google related platforms. A **popularity score of 100** would represent the peak amount a term was searched relative to its own history, and a **popularity score of 0** would represent the lowest amount a term was searched relatively. We will use the search terms **\"recession\"**, **\"layoffs\"** and **\"stock crash\"** spanning from **January 2004** (farthest timeline possible for Google Trends) to **April 2025** showing their monthly popularity scores as markers of fears. We chose these search terms as they are common terms people might search up when they are skeptical or worried about the economy. Using the `tidyverse` library, we will then make our own **\"fear index\"** where we will find the **mean** value of these collective popularity scores and use that as our explanatory variable for sentiment of fear towards the economy. "
   ]
  },
  {
   "cell_type": "markdown",
   "id": "7cd7a48d-7652-43af-bf96-5b728cb07d2e",
   "metadata": {},
   "source": [
    "We first load the `tidyverse` library"
   ]
  },
  {
   "cell_type": "code",
   "execution_count": 7,
   "id": "a75dcfa1-c44b-4f95-8169-b9a1cce2ceeb",
   "metadata": {
    "scrolled": true
   },
   "outputs": [],
   "source": [
    "library(tidyverse) "
   ]
  },
  {
   "cell_type": "markdown",
   "id": "92cf6940-3b54-4a58-bb12-bddb2c231484",
   "metadata": {},
   "source": [
    "Now we can import our data from **Google Trends** with the files `layoffs.csv`, `recession.csv` and `stock crash.csv`"
   ]
  },
  {
   "cell_type": "code",
   "execution_count": 8,
   "id": "25c36322-f014-4fb7-8d31-d7babc243b6c",
   "metadata": {
    "scrolled": true
   },
   "outputs": [
    {
     "name": "stderr",
     "output_type": "stream",
     "text": [
      "\u001b[1mRows: \u001b[22m\u001b[34m256\u001b[39m \u001b[1mColumns: \u001b[22m\u001b[34m2\u001b[39m\n",
      "\u001b[36m──\u001b[39m \u001b[1mColumn specification\u001b[22m \u001b[36m────────────────────────────────────────────────────────\u001b[39m\n",
      "\u001b[1mDelimiter:\u001b[22m \",\"\n",
      "\u001b[31mchr\u001b[39m (1): Month\n",
      "\u001b[32mdbl\u001b[39m (1): layoffs: (Canada)\n",
      "\n",
      "\u001b[36mℹ\u001b[39m Use `spec()` to retrieve the full column specification for this data.\n",
      "\u001b[36mℹ\u001b[39m Specify the column types or set `show_col_types = FALSE` to quiet this message.\n",
      "\u001b[1mRows: \u001b[22m\u001b[34m256\u001b[39m \u001b[1mColumns: \u001b[22m\u001b[34m2\u001b[39m\n",
      "\u001b[36m──\u001b[39m \u001b[1mColumn specification\u001b[22m \u001b[36m────────────────────────────────────────────────────────\u001b[39m\n",
      "\u001b[1mDelimiter:\u001b[22m \",\"\n",
      "\u001b[31mchr\u001b[39m (1): Month\n",
      "\u001b[32mdbl\u001b[39m (1): recession: (Canada)\n",
      "\n",
      "\u001b[36mℹ\u001b[39m Use `spec()` to retrieve the full column specification for this data.\n",
      "\u001b[36mℹ\u001b[39m Specify the column types or set `show_col_types = FALSE` to quiet this message.\n",
      "\u001b[1mRows: \u001b[22m\u001b[34m256\u001b[39m \u001b[1mColumns: \u001b[22m\u001b[34m2\u001b[39m\n",
      "\u001b[36m──\u001b[39m \u001b[1mColumn specification\u001b[22m \u001b[36m────────────────────────────────────────────────────────\u001b[39m\n",
      "\u001b[1mDelimiter:\u001b[22m \",\"\n",
      "\u001b[31mchr\u001b[39m (1): Month\n",
      "\u001b[32mdbl\u001b[39m (1): stock crash: (Canada)\n",
      "\n",
      "\u001b[36mℹ\u001b[39m Use `spec()` to retrieve the full column specification for this data.\n",
      "\u001b[36mℹ\u001b[39m Specify the column types or set `show_col_types = FALSE` to quiet this message.\n"
     ]
    }
   ],
   "source": [
    "#Raw data for search-term \"layoffs\" (Jan 2004- April 2025)\n",
    "layoffs_untidy <- read_csv(\"layoffs.csv\", \n",
    "                    skip = 2)\n",
    "#Raw data for search-term \"recession\" (Jan 2004- April 2025)\n",
    "recession_untidy <- read_csv(\"recession.csv\", \n",
    "                      skip = 2) \n",
    "#Raw data for search-term \"stock crash\" (Jan 2004- April 2025)\n",
    "stock_crash_untidy <- read_csv(\"stock_crash.csv\", \n",
    "                        skip = 2)\n",
    "\n",
    "#Cleaning search-term data so that it is in a suitable format for future modelling \n",
    "stock_crash_tidy <- stock_crash_untidy |>\n",
    "  mutate(term_date1 = ym(Month)) |>\n",
    "  select(term_date1, `stock crash: (Canada)`) \n",
    "\n",
    "recession_tidy <- recession_untidy |>\n",
    "  mutate(term_date2 = ym(Month)) |>\n",
    "  select(term_date2, `recession: (Canada)`)\n",
    "\n",
    "layoffs_tidy <- layoffs_untidy |>\n",
    "  mutate(term_date3 = ym(Month)) |>\n",
    "  select(term_date3, `layoffs: (Canada)`) \n"
   ]
  },
  {
   "cell_type": "markdown",
   "id": "d08173b0-5ed3-4f70-b814-3e698e1322f6",
   "metadata": {},
   "source": [
    "With the cleaned data, we can make our **fear index**, showing it in through the variable `fear_value`"
   ]
  },
  {
   "cell_type": "code",
   "execution_count": 9,
   "id": "472dd438-a71c-4fa9-a8cb-6f17843e8345",
   "metadata": {},
   "outputs": [
    {
     "data": {
      "text/html": [
       "<table class=\"dataframe\">\n",
       "<caption>A data.frame: 6 × 5</caption>\n",
       "<thead>\n",
       "\t<tr><th></th><th scope=col>term_date</th><th scope=col>stock crash: (Canada)</th><th scope=col>recession: (Canada)</th><th scope=col>layoffs: (Canada)</th><th scope=col>fear_value</th></tr>\n",
       "\t<tr><th></th><th scope=col>&lt;date&gt;</th><th scope=col>&lt;dbl&gt;</th><th scope=col>&lt;dbl&gt;</th><th scope=col>&lt;dbl&gt;</th><th scope=col>&lt;dbl&gt;</th></tr>\n",
       "</thead>\n",
       "<tbody>\n",
       "\t<tr><th scope=row>1</th><td>2004-01-01</td><td>24</td><td>3</td><td>6</td><td>11.000000</td></tr>\n",
       "\t<tr><th scope=row>2</th><td>2004-02-01</td><td>14</td><td>0</td><td>8</td><td> 7.333333</td></tr>\n",
       "\t<tr><th scope=row>3</th><td>2004-03-01</td><td>23</td><td>0</td><td>8</td><td>10.333333</td></tr>\n",
       "\t<tr><th scope=row>4</th><td>2004-04-01</td><td>36</td><td>4</td><td>8</td><td>16.000000</td></tr>\n",
       "\t<tr><th scope=row>5</th><td>2004-05-01</td><td>28</td><td>3</td><td>5</td><td>12.000000</td></tr>\n",
       "\t<tr><th scope=row>6</th><td>2004-06-01</td><td>18</td><td>0</td><td>0</td><td> 6.000000</td></tr>\n",
       "</tbody>\n",
       "</table>\n"
      ],
      "text/latex": [
       "A data.frame: 6 × 5\n",
       "\\begin{tabular}{r|lllll}\n",
       "  & term\\_date & stock crash: (Canada) & recession: (Canada) & layoffs: (Canada) & fear\\_value\\\\\n",
       "  & <date> & <dbl> & <dbl> & <dbl> & <dbl>\\\\\n",
       "\\hline\n",
       "\t1 & 2004-01-01 & 24 & 3 & 6 & 11.000000\\\\\n",
       "\t2 & 2004-02-01 & 14 & 0 & 8 &  7.333333\\\\\n",
       "\t3 & 2004-03-01 & 23 & 0 & 8 & 10.333333\\\\\n",
       "\t4 & 2004-04-01 & 36 & 4 & 8 & 16.000000\\\\\n",
       "\t5 & 2004-05-01 & 28 & 3 & 5 & 12.000000\\\\\n",
       "\t6 & 2004-06-01 & 18 & 0 & 0 &  6.000000\\\\\n",
       "\\end{tabular}\n"
      ],
      "text/markdown": [
       "\n",
       "A data.frame: 6 × 5\n",
       "\n",
       "| <!--/--> | term_date &lt;date&gt; | stock crash: (Canada) &lt;dbl&gt; | recession: (Canada) &lt;dbl&gt; | layoffs: (Canada) &lt;dbl&gt; | fear_value &lt;dbl&gt; |\n",
       "|---|---|---|---|---|---|\n",
       "| 1 | 2004-01-01 | 24 | 3 | 6 | 11.000000 |\n",
       "| 2 | 2004-02-01 | 14 | 0 | 8 |  7.333333 |\n",
       "| 3 | 2004-03-01 | 23 | 0 | 8 | 10.333333 |\n",
       "| 4 | 2004-04-01 | 36 | 4 | 8 | 16.000000 |\n",
       "| 5 | 2004-05-01 | 28 | 3 | 5 | 12.000000 |\n",
       "| 6 | 2004-06-01 | 18 | 0 | 0 |  6.000000 |\n",
       "\n"
      ],
      "text/plain": [
       "  term_date  stock crash: (Canada) recession: (Canada) layoffs: (Canada)\n",
       "1 2004-01-01 24                    3                   6                \n",
       "2 2004-02-01 14                    0                   8                \n",
       "3 2004-03-01 23                    0                   8                \n",
       "4 2004-04-01 36                    4                   8                \n",
       "5 2004-05-01 28                    3                   5                \n",
       "6 2004-06-01 18                    0                   0                \n",
       "  fear_value\n",
       "1 11.000000 \n",
       "2  7.333333 \n",
       "3 10.333333 \n",
       "4 16.000000 \n",
       "5 12.000000 \n",
       "6  6.000000 "
      ]
     },
     "metadata": {},
     "output_type": "display_data"
    }
   ],
   "source": [
    "#Creating fear index\n",
    "fear_index <- cbind(stock_crash_tidy, recession_tidy, layoffs_tidy) |>\n",
    "  mutate(term_date = term_date1) |>\n",
    "  select(term_date, `stock crash: (Canada)`, \n",
    "         `recession: (Canada)`,\n",
    "         `layoffs: (Canada)`) |>\n",
    "  mutate(fear_value = (`stock crash: (Canada)` + `recession: (Canada)` +\n",
    "                         `layoffs: (Canada)`) / 3) |>\n",
    "  filter(term_date < \"2025-02-01\")\n",
    "head(fear_index)"
   ]
  },
  {
   "cell_type": "markdown",
   "id": "44b06e48-4fe2-4fc5-80c6-4ef6fc98b34c",
   "metadata": {},
   "source": [
    "We will now make a new understanding of how to interpret these new values for `fear_value` using `quantile` to look at the percentiles of data"
   ]
  },
  {
   "cell_type": "code",
   "execution_count": 10,
   "id": "7d4a7960-9226-4243-abff-f6d7b1fabd71",
   "metadata": {},
   "outputs": [
    {
     "data": {
      "text/html": [
       "<style>\n",
       ".dl-inline {width: auto; margin:0; padding: 0}\n",
       ".dl-inline>dt, .dl-inline>dd {float: none; width: auto; display: inline-block}\n",
       ".dl-inline>dt::after {content: \":\\0020\"; padding-right: .5ex}\n",
       ".dl-inline>dt:not(:first-of-type) {padding-left: .5ex}\n",
       "</style><dl class=dl-inline><dt>25%</dt><dd>9.66666666666667</dd><dt>50%</dt><dd>13</dd><dt>75%</dt><dd>20.3333333333333</dd><dt>90%</dt><dd>30.2666666666667</dd><dt>95%</dt><dd>38.8</dd><dt>99%</dt><dd>49.44</dd></dl>\n"
      ],
      "text/latex": [
       "\\begin{description*}\n",
       "\\item[25\\textbackslash{}\\%] 9.66666666666667\n",
       "\\item[50\\textbackslash{}\\%] 13\n",
       "\\item[75\\textbackslash{}\\%] 20.3333333333333\n",
       "\\item[90\\textbackslash{}\\%] 30.2666666666667\n",
       "\\item[95\\textbackslash{}\\%] 38.8\n",
       "\\item[99\\textbackslash{}\\%] 49.44\n",
       "\\end{description*}\n"
      ],
      "text/markdown": [
       "25%\n",
       ":   9.6666666666666750%\n",
       ":   1375%\n",
       ":   20.333333333333390%\n",
       ":   30.266666666666795%\n",
       ":   38.899%\n",
       ":   49.44\n",
       "\n"
      ],
      "text/plain": [
       "      25%       50%       75%       90%       95%       99% \n",
       " 9.666667 13.000000 20.333333 30.266667 38.800000 49.440000 "
      ]
     },
     "metadata": {},
     "output_type": "display_data"
    }
   ],
   "source": [
    "fear_metrics <- quantile(fear_index$fear_value, \n",
    "                         probs = c(0.25, 0.5, 0.75, 0.90, 0.95, 0.99)) \n",
    "fear_metrics"
   ]
  },
  {
   "cell_type": "markdown",
   "id": "f32b6446-7c00-40e5-bddb-4051f1deb742",
   "metadata": {},
   "source": [
    "Based on the data, our interpretation for the **fear index** will go as follows: \n",
    "\n",
    "- **0-19**  is a low fear value\n",
    "- **20-39** is a moderate fear value\n",
    "- **40-49** is a high fear value\n",
    "- **50+**   is an extremely high fear value\n"
   ]
  },
  {
   "cell_type": "markdown",
   "id": "b276a566-0d31-404e-b7ce-d342795b9ce5",
   "metadata": {},
   "source": [
    "### Stock Performance Wrangling"
   ]
  },
  {
   "cell_type": "markdown",
   "id": "b50866b8-2b1d-48cc-a202-470d3f57cb87",
   "metadata": {},
   "source": [
    "We will quantify **stock performance** by looking at the **growth rate** of the overall stock market. In this study we will use the **S&P/TSX Composite Index** as our benchmark for the overall stock market, tracking **monthly** growth data in order to see how the market is performing. To view this, we will use data from **yahoo finance** through the library `quantmod`, which gives time-series data on any stock found on the market. Then we will use the `tidyverse` library to further wrangle and clean up the data."
   ]
  },
  {
   "cell_type": "markdown",
   "id": "c7dd87c6-28cd-449e-952e-7b6076205c8d",
   "metadata": {},
   "source": [
    "First let's load the `quantmod` library"
   ]
  },
  {
   "cell_type": "code",
   "execution_count": 11,
   "id": "f0e3bcbd-0078-43ad-914e-be23f4a18485",
   "metadata": {},
   "outputs": [
    {
     "name": "stderr",
     "output_type": "stream",
     "text": [
      "Loading required package: xts\n",
      "\n",
      "Loading required package: zoo\n",
      "\n",
      "\n",
      "Attaching package: ‘zoo’\n",
      "\n",
      "\n",
      "The following objects are masked from ‘package:base’:\n",
      "\n",
      "    as.Date, as.Date.numeric\n",
      "\n",
      "\n",
      "\n",
      "######################### Warning from 'xts' package ##########################\n",
      "#                                                                             #\n",
      "# The dplyr lag() function breaks how base R's lag() function is supposed to  #\n",
      "# work, which breaks lag(my_xts). Calls to lag(my_xts) that you type or       #\n",
      "# source() into this session won't work correctly.                            #\n",
      "#                                                                             #\n",
      "# Use stats::lag() to make sure you're not using dplyr::lag(), or you can add #\n",
      "# conflictRules('dplyr', exclude = 'lag') to your .Rprofile to stop           #\n",
      "# dplyr from breaking base R's lag() function.                                #\n",
      "#                                                                             #\n",
      "# Code in packages is not affected. It's protected by R's namespace mechanism #\n",
      "# Set `options(xts.warn_dplyr_breaks_lag = FALSE)` to suppress this warning.  #\n",
      "#                                                                             #\n",
      "###############################################################################\n",
      "\n",
      "\n",
      "Attaching package: ‘xts’\n",
      "\n",
      "\n",
      "The following objects are masked from ‘package:dplyr’:\n",
      "\n",
      "    first, last\n",
      "\n",
      "\n",
      "Loading required package: TTR\n",
      "\n",
      "Registered S3 method overwritten by 'quantmod':\n",
      "  method            from\n",
      "  as.zoo.data.frame zoo \n",
      "\n"
     ]
    }
   ],
   "source": [
    "library(quantmod)"
   ]
  },
  {
   "cell_type": "markdown",
   "id": "375b641c-8f34-48b0-81ca-4a756eba7057",
   "metadata": {},
   "source": [
    "Now we import our stock performance data, keeping it in **monthly** increments and using **closing** values"
   ]
  },
  {
   "cell_type": "code",
   "execution_count": 12,
   "id": "360c2dd3-2a3d-4262-8491-71d2b435f7a6",
   "metadata": {},
   "outputs": [
    {
     "name": "stderr",
     "output_type": "stream",
     "text": [
      "Warning message:\n",
      "“^GSPTSE contains missing values. Some functions will not work if objects contain missing values in the middle of the series. Consider using na.omit(), na.approx(), na.fill(), etc to remove or replace them.”\n"
     ]
    },
    {
     "data": {
      "text/html": [
       "'GSPTSE'"
      ],
      "text/latex": [
       "'GSPTSE'"
      ],
      "text/markdown": [
       "'GSPTSE'"
      ],
      "text/plain": [
       "[1] \"GSPTSE\""
      ]
     },
     "metadata": {},
     "output_type": "display_data"
    },
    {
     "name": "stderr",
     "output_type": "stream",
     "text": [
      "Warning message in to.period(x, \"months\", indexAt = indexAt, name = name, ...):\n",
      "“missing values removed from data”\n"
     ]
    },
    {
     "data": {
      "text/html": [
       "<table class=\"dataframe\">\n",
       "<caption>A data.frame: 6 × 2</caption>\n",
       "<thead>\n",
       "\t<tr><th></th><th scope=col>Date</th><th scope=col>GSPTSE.Close</th></tr>\n",
       "\t<tr><th></th><th scope=col>&lt;date&gt;</th><th scope=col>&lt;dbl&gt;</th></tr>\n",
       "</thead>\n",
       "<tbody>\n",
       "\t<tr><th scope=row>1</th><td>2004-01-01</td><td>8521.4</td></tr>\n",
       "\t<tr><th scope=row>2</th><td>2004-02-01</td><td>8788.5</td></tr>\n",
       "\t<tr><th scope=row>3</th><td>2004-03-01</td><td>8585.9</td></tr>\n",
       "\t<tr><th scope=row>4</th><td>2004-04-01</td><td>8244.0</td></tr>\n",
       "\t<tr><th scope=row>5</th><td>2004-05-01</td><td>8417.3</td></tr>\n",
       "\t<tr><th scope=row>6</th><td>2004-06-01</td><td>8545.6</td></tr>\n",
       "</tbody>\n",
       "</table>\n"
      ],
      "text/latex": [
       "A data.frame: 6 × 2\n",
       "\\begin{tabular}{r|ll}\n",
       "  & Date & GSPTSE.Close\\\\\n",
       "  & <date> & <dbl>\\\\\n",
       "\\hline\n",
       "\t1 & 2004-01-01 & 8521.4\\\\\n",
       "\t2 & 2004-02-01 & 8788.5\\\\\n",
       "\t3 & 2004-03-01 & 8585.9\\\\\n",
       "\t4 & 2004-04-01 & 8244.0\\\\\n",
       "\t5 & 2004-05-01 & 8417.3\\\\\n",
       "\t6 & 2004-06-01 & 8545.6\\\\\n",
       "\\end{tabular}\n"
      ],
      "text/markdown": [
       "\n",
       "A data.frame: 6 × 2\n",
       "\n",
       "| <!--/--> | Date &lt;date&gt; | GSPTSE.Close &lt;dbl&gt; |\n",
       "|---|---|---|\n",
       "| 1 | 2004-01-01 | 8521.4 |\n",
       "| 2 | 2004-02-01 | 8788.5 |\n",
       "| 3 | 2004-03-01 | 8585.9 |\n",
       "| 4 | 2004-04-01 | 8244.0 |\n",
       "| 5 | 2004-05-01 | 8417.3 |\n",
       "| 6 | 2004-06-01 | 8545.6 |\n",
       "\n"
      ],
      "text/plain": [
       "  Date       GSPTSE.Close\n",
       "1 2004-01-01 8521.4      \n",
       "2 2004-02-01 8788.5      \n",
       "3 2004-03-01 8585.9      \n",
       "4 2004-04-01 8244.0      \n",
       "5 2004-05-01 8417.3      \n",
       "6 2004-06-01 8545.6      "
      ]
     },
     "metadata": {},
     "output_type": "display_data"
    }
   ],
   "source": [
    "#Raw data\n",
    "getSymbols(\"^GSPTSE\", src = \"yahoo\", from = \"2004-01-01\", to = \"2025-02-01\")\n",
    "stock_monthly_untidy <- to.monthly(GSPTSE, indexAt = \"firstof\", OHLC = TRUE)\n",
    "\n",
    "#Cleaning data \n",
    "stock_monthly_tidy <- fortify.zoo(stock_monthly_untidy) |>\n",
    "  mutate(Date = Index) |>\n",
    "  select(Date, GSPTSE.Close)\n",
    "head(stock_monthly_tidy)"
   ]
  },
  {
   "cell_type": "markdown",
   "id": "0ea3fc0d-2fe2-4dab-8fee-e261bfebfcc8",
   "metadata": {},
   "source": [
    "We convert these price values into **growth rates** so we can see how much the stock price is changing each month"
   ]
  },
  {
   "cell_type": "code",
   "execution_count": 13,
   "id": "d7225beb-4fd4-43fa-b8a0-e7a15f553378",
   "metadata": {},
   "outputs": [
    {
     "data": {
      "text/html": [
       "<table class=\"dataframe\">\n",
       "<caption>A data.frame: 6 × 3</caption>\n",
       "<thead>\n",
       "\t<tr><th></th><th scope=col>Date</th><th scope=col>GSPTSE.Close</th><th scope=col>stock_growth</th></tr>\n",
       "\t<tr><th></th><th scope=col>&lt;date&gt;</th><th scope=col>&lt;dbl&gt;</th><th scope=col>&lt;dbl&gt;</th></tr>\n",
       "</thead>\n",
       "<tbody>\n",
       "\t<tr><th scope=row>1</th><td>2004-01-01</td><td>8521.4</td><td>       NA</td></tr>\n",
       "\t<tr><th scope=row>2</th><td>2004-02-01</td><td>8788.5</td><td> 3.134457</td></tr>\n",
       "\t<tr><th scope=row>3</th><td>2004-03-01</td><td>8585.9</td><td>-2.305281</td></tr>\n",
       "\t<tr><th scope=row>4</th><td>2004-04-01</td><td>8244.0</td><td>-3.982115</td></tr>\n",
       "\t<tr><th scope=row>5</th><td>2004-05-01</td><td>8417.3</td><td> 2.102133</td></tr>\n",
       "\t<tr><th scope=row>6</th><td>2004-06-01</td><td>8545.6</td><td> 1.524239</td></tr>\n",
       "</tbody>\n",
       "</table>\n"
      ],
      "text/latex": [
       "A data.frame: 6 × 3\n",
       "\\begin{tabular}{r|lll}\n",
       "  & Date & GSPTSE.Close & stock\\_growth\\\\\n",
       "  & <date> & <dbl> & <dbl>\\\\\n",
       "\\hline\n",
       "\t1 & 2004-01-01 & 8521.4 &        NA\\\\\n",
       "\t2 & 2004-02-01 & 8788.5 &  3.134457\\\\\n",
       "\t3 & 2004-03-01 & 8585.9 & -2.305281\\\\\n",
       "\t4 & 2004-04-01 & 8244.0 & -3.982115\\\\\n",
       "\t5 & 2004-05-01 & 8417.3 &  2.102133\\\\\n",
       "\t6 & 2004-06-01 & 8545.6 &  1.524239\\\\\n",
       "\\end{tabular}\n"
      ],
      "text/markdown": [
       "\n",
       "A data.frame: 6 × 3\n",
       "\n",
       "| <!--/--> | Date &lt;date&gt; | GSPTSE.Close &lt;dbl&gt; | stock_growth &lt;dbl&gt; |\n",
       "|---|---|---|---|\n",
       "| 1 | 2004-01-01 | 8521.4 |        NA |\n",
       "| 2 | 2004-02-01 | 8788.5 |  3.134457 |\n",
       "| 3 | 2004-03-01 | 8585.9 | -2.305281 |\n",
       "| 4 | 2004-04-01 | 8244.0 | -3.982115 |\n",
       "| 5 | 2004-05-01 | 8417.3 |  2.102133 |\n",
       "| 6 | 2004-06-01 | 8545.6 |  1.524239 |\n",
       "\n"
      ],
      "text/plain": [
       "  Date       GSPTSE.Close stock_growth\n",
       "1 2004-01-01 8521.4              NA   \n",
       "2 2004-02-01 8788.5        3.134457   \n",
       "3 2004-03-01 8585.9       -2.305281   \n",
       "4 2004-04-01 8244.0       -3.982115   \n",
       "5 2004-05-01 8417.3        2.102133   \n",
       "6 2004-06-01 8545.6        1.524239   "
      ]
     },
     "metadata": {},
     "output_type": "display_data"
    }
   ],
   "source": [
    "#Growth rates in percentages\n",
    "stock_monthly_growth <- stock_monthly_tidy |>\n",
    "  mutate(stock_growth = \n",
    "           ((GSPTSE.Close - lag(GSPTSE.Close)) / lag(GSPTSE.Close)) * 100)\n",
    "head(stock_monthly_growth) "
   ]
  },
  {
   "cell_type": "markdown",
   "id": "4dc15460-32eb-4fd2-8295-ecaaf82efc5c",
   "metadata": {},
   "source": [
    "### Control Variables"
   ]
  },
  {
   "cell_type": "markdown",
   "id": "93915028-3308-4136-bc49-d69e26c52c20",
   "metadata": {},
   "source": [
    "We decided to choose these variables as our controls: \n",
    "- **inflation** - we want to control for the value of money as the level of inflation can influence earnings and stock valuations *(data is growth rate of CPI from a year-to-date in percentage)*\n",
    "- **exchange rates** - we want to control for how much the CAD is worth relative to USD so that changes in the market aren't influenced by exchange rates through increased exports or imports *(data is nominal CAD/USD exchange rate)*\n",
    "- **lagged monthly stock performance** - we want to control for the previous monthly market values so that previous values in the stock market are not influencing current market performance *(data is lagged monthly values of the S&P/TSX Composite Index)*"
   ]
  },
  {
   "cell_type": "markdown",
   "id": "1b168429-c361-4592-ba1e-2e94e42b167f",
   "metadata": {},
   "source": [
    "First we import our data from `inflation.csv` and `exchange_rate.csv`"
   ]
  },
  {
   "cell_type": "code",
   "execution_count": 14,
   "id": "baf8c3cd-ea0f-42fc-bf7c-017a562e75d0",
   "metadata": {},
   "outputs": [
    {
     "name": "stderr",
     "output_type": "stream",
     "text": [
      "\u001b[1mRows: \u001b[22m\u001b[34m254\u001b[39m \u001b[1mColumns: \u001b[22m\u001b[34m2\u001b[39m\n",
      "\u001b[36m──\u001b[39m \u001b[1mColumn specification\u001b[22m \u001b[36m────────────────────────────────────────────────────────\u001b[39m\n",
      "\u001b[1mDelimiter:\u001b[22m \",\"\n",
      "\u001b[32mdbl\u001b[39m  (1): CPALTT01CAM659N\n",
      "\u001b[34mdate\u001b[39m (1): observation_date\n",
      "\n",
      "\u001b[36mℹ\u001b[39m Use `spec()` to retrieve the full column specification for this data.\n",
      "\u001b[36mℹ\u001b[39m Specify the column types or set `show_col_types = FALSE` to quiet this message.\n",
      "\u001b[1mRows: \u001b[22m\u001b[34m256\u001b[39m \u001b[1mColumns: \u001b[22m\u001b[34m2\u001b[39m\n",
      "\u001b[36m──\u001b[39m \u001b[1mColumn specification\u001b[22m \u001b[36m────────────────────────────────────────────────────────\u001b[39m\n",
      "\u001b[1mDelimiter:\u001b[22m \",\"\n",
      "\u001b[32mdbl\u001b[39m  (1): DEXCAUS\n",
      "\u001b[34mdate\u001b[39m (1): observation_date\n",
      "\n",
      "\u001b[36mℹ\u001b[39m Use `spec()` to retrieve the full column specification for this data.\n",
      "\u001b[36mℹ\u001b[39m Specify the column types or set `show_col_types = FALSE` to quiet this message.\n"
     ]
    }
   ],
   "source": [
    "#Import inflation data (December 2003-January 2025)\n",
    "inflation_untidy <- read_csv(\"inflation.csv\")\n",
    "#Import exchange rate data (December 2003-March 2025)\n",
    "exchange_rate_untidy <- read_csv(\"exchange_rate.csv\")\n",
    "\n",
    "#Cleaning data for future modelling\n",
    "inflation_tidy <- inflation_untidy |>\n",
    "  mutate(inflation_rate = CPALTT01CAM659N,\n",
    "         observation_date2 = observation_date) |>\n",
    "  filter(observation_date2 > \"2003-12-01\") |>\n",
    "  select(observation_date2, inflation_rate) \n",
    "\n",
    "exchange_rate_tidy <- exchange_rate_untidy |>\n",
    "  mutate(exchange_rate = DEXCAUS,\n",
    "         observation_date1 = observation_date) |>\n",
    "  filter(observation_date1 > \"2003-12-01\",\n",
    "         observation_date1 < \"2025-02-01\") |>\n",
    "  select(observation_date1, exchange_rate) "
   ]
  },
  {
   "cell_type": "markdown",
   "id": "211e0d1b-f953-42d2-8d8b-b59778e6d86d",
   "metadata": {},
   "source": [
    "Now we transform `stock_monthly_growth` to create **lagged stock performance** in `stock_monthly_growth_lag`"
   ]
  },
  {
   "cell_type": "code",
   "execution_count": 15,
   "id": "3c933f74-559b-4037-b131-b6896402262b",
   "metadata": {},
   "outputs": [
    {
     "data": {
      "text/html": [
       "<table class=\"dataframe\">\n",
       "<caption>A data.frame: 6 × 2</caption>\n",
       "<thead>\n",
       "\t<tr><th></th><th scope=col>Date2</th><th scope=col>lagged_stock_growth</th></tr>\n",
       "\t<tr><th></th><th scope=col>&lt;date&gt;</th><th scope=col>&lt;dbl&gt;</th></tr>\n",
       "</thead>\n",
       "<tbody>\n",
       "\t<tr><th scope=row>1</th><td>2004-01-01</td><td>       NA</td></tr>\n",
       "\t<tr><th scope=row>2</th><td>2004-02-01</td><td>       NA</td></tr>\n",
       "\t<tr><th scope=row>3</th><td>2004-03-01</td><td> 3.134457</td></tr>\n",
       "\t<tr><th scope=row>4</th><td>2004-04-01</td><td>-2.305281</td></tr>\n",
       "\t<tr><th scope=row>5</th><td>2004-05-01</td><td>-3.982115</td></tr>\n",
       "\t<tr><th scope=row>6</th><td>2004-06-01</td><td> 2.102133</td></tr>\n",
       "</tbody>\n",
       "</table>\n"
      ],
      "text/latex": [
       "A data.frame: 6 × 2\n",
       "\\begin{tabular}{r|ll}\n",
       "  & Date2 & lagged\\_stock\\_growth\\\\\n",
       "  & <date> & <dbl>\\\\\n",
       "\\hline\n",
       "\t1 & 2004-01-01 &        NA\\\\\n",
       "\t2 & 2004-02-01 &        NA\\\\\n",
       "\t3 & 2004-03-01 &  3.134457\\\\\n",
       "\t4 & 2004-04-01 & -2.305281\\\\\n",
       "\t5 & 2004-05-01 & -3.982115\\\\\n",
       "\t6 & 2004-06-01 &  2.102133\\\\\n",
       "\\end{tabular}\n"
      ],
      "text/markdown": [
       "\n",
       "A data.frame: 6 × 2\n",
       "\n",
       "| <!--/--> | Date2 &lt;date&gt; | lagged_stock_growth &lt;dbl&gt; |\n",
       "|---|---|---|\n",
       "| 1 | 2004-01-01 |        NA |\n",
       "| 2 | 2004-02-01 |        NA |\n",
       "| 3 | 2004-03-01 |  3.134457 |\n",
       "| 4 | 2004-04-01 | -2.305281 |\n",
       "| 5 | 2004-05-01 | -3.982115 |\n",
       "| 6 | 2004-06-01 |  2.102133 |\n",
       "\n"
      ],
      "text/plain": [
       "  Date2      lagged_stock_growth\n",
       "1 2004-01-01        NA          \n",
       "2 2004-02-01        NA          \n",
       "3 2004-03-01  3.134457          \n",
       "4 2004-04-01 -2.305281          \n",
       "5 2004-05-01 -3.982115          \n",
       "6 2004-06-01  2.102133          "
      ]
     },
     "metadata": {},
     "output_type": "display_data"
    }
   ],
   "source": [
    "#Create Lagged Stock Performance\n",
    "stock_monthly_growth_lag <- stock_monthly_growth |>\n",
    "  mutate(lagged_stock_growth = lag(stock_growth),\n",
    "         Date2 = Date) |>\n",
    "  select(Date2, lagged_stock_growth) \n",
    "head(stock_monthly_growth_lag)"
   ]
  },
  {
   "cell_type": "markdown",
   "id": "ff61617b-6de2-44a5-b7a8-c719086b72d7",
   "metadata": {},
   "source": [
    "### Combining Variables"
   ]
  },
  {
   "cell_type": "markdown",
   "id": "5718a2ee-ff11-4379-911b-43923dddbb6e",
   "metadata": {},
   "source": [
    "Now that we have properly obtained our data for all our variables, we will combine all the variables within the same dataset, **lagging** our `fear_value` by **1 month**. This is in order to avoid instances of **reverse causality** so that we can see if `fear_value` is actually **leading** to changes in the stock market performance rather than the other way around. "
   ]
  },
  {
   "cell_type": "code",
   "execution_count": 16,
   "id": "a3f2ed88-9d82-4e48-ac6a-a23f37746bbb",
   "metadata": {},
   "outputs": [
    {
     "data": {
      "text/html": [
       "<table class=\"dataframe\">\n",
       "<caption>A data.frame: 6 × 6</caption>\n",
       "<thead>\n",
       "\t<tr><th></th><th scope=col>Date</th><th scope=col>stock_growth</th><th scope=col>lagged_fear_value</th><th scope=col>inflation_rate</th><th scope=col>exchange_rate</th><th scope=col>lagged_stock_growth</th></tr>\n",
       "\t<tr><th></th><th scope=col>&lt;date&gt;</th><th scope=col>&lt;dbl&gt;</th><th scope=col>&lt;dbl&gt;</th><th scope=col>&lt;dbl&gt;</th><th scope=col>&lt;dbl&gt;</th><th scope=col>&lt;dbl&gt;</th></tr>\n",
       "</thead>\n",
       "<tbody>\n",
       "\t<tr><th scope=row>1</th><td>2004-03-01</td><td>-2.3052809</td><td> 7.333333</td><td>0.7759457</td><td>1.3286</td><td> 3.134457</td></tr>\n",
       "\t<tr><th scope=row>2</th><td>2004-04-01</td><td>-3.9821146</td><td>10.333333</td><td>1.6601560</td><td>1.3420</td><td>-2.305281</td></tr>\n",
       "\t<tr><th scope=row>3</th><td>2004-05-01</td><td> 2.1021325</td><td>16.000000</td><td>2.4390240</td><td>1.3789</td><td>-3.982115</td></tr>\n",
       "\t<tr><th scope=row>4</th><td>2004-06-01</td><td> 1.5242395</td><td>12.000000</td><td>2.5365850</td><td>1.3578</td><td> 2.102133</td></tr>\n",
       "\t<tr><th scope=row>5</th><td>2004-07-01</td><td>-1.0239188</td><td> 6.000000</td><td>2.3391810</td><td>1.3225</td><td> 1.524239</td></tr>\n",
       "\t<tr><th scope=row>6</th><td>2004-08-01</td><td>-0.9588396</td><td> 0.000000</td><td>1.8464530</td><td>1.3127</td><td>-1.023919</td></tr>\n",
       "</tbody>\n",
       "</table>\n"
      ],
      "text/latex": [
       "A data.frame: 6 × 6\n",
       "\\begin{tabular}{r|llllll}\n",
       "  & Date & stock\\_growth & lagged\\_fear\\_value & inflation\\_rate & exchange\\_rate & lagged\\_stock\\_growth\\\\\n",
       "  & <date> & <dbl> & <dbl> & <dbl> & <dbl> & <dbl>\\\\\n",
       "\\hline\n",
       "\t1 & 2004-03-01 & -2.3052809 &  7.333333 & 0.7759457 & 1.3286 &  3.134457\\\\\n",
       "\t2 & 2004-04-01 & -3.9821146 & 10.333333 & 1.6601560 & 1.3420 & -2.305281\\\\\n",
       "\t3 & 2004-05-01 &  2.1021325 & 16.000000 & 2.4390240 & 1.3789 & -3.982115\\\\\n",
       "\t4 & 2004-06-01 &  1.5242395 & 12.000000 & 2.5365850 & 1.3578 &  2.102133\\\\\n",
       "\t5 & 2004-07-01 & -1.0239188 &  6.000000 & 2.3391810 & 1.3225 &  1.524239\\\\\n",
       "\t6 & 2004-08-01 & -0.9588396 &  0.000000 & 1.8464530 & 1.3127 & -1.023919\\\\\n",
       "\\end{tabular}\n"
      ],
      "text/markdown": [
       "\n",
       "A data.frame: 6 × 6\n",
       "\n",
       "| <!--/--> | Date &lt;date&gt; | stock_growth &lt;dbl&gt; | lagged_fear_value &lt;dbl&gt; | inflation_rate &lt;dbl&gt; | exchange_rate &lt;dbl&gt; | lagged_stock_growth &lt;dbl&gt; |\n",
       "|---|---|---|---|---|---|---|\n",
       "| 1 | 2004-03-01 | -2.3052809 |  7.333333 | 0.7759457 | 1.3286 |  3.134457 |\n",
       "| 2 | 2004-04-01 | -3.9821146 | 10.333333 | 1.6601560 | 1.3420 | -2.305281 |\n",
       "| 3 | 2004-05-01 |  2.1021325 | 16.000000 | 2.4390240 | 1.3789 | -3.982115 |\n",
       "| 4 | 2004-06-01 |  1.5242395 | 12.000000 | 2.5365850 | 1.3578 |  2.102133 |\n",
       "| 5 | 2004-07-01 | -1.0239188 |  6.000000 | 2.3391810 | 1.3225 |  1.524239 |\n",
       "| 6 | 2004-08-01 | -0.9588396 |  0.000000 | 1.8464530 | 1.3127 | -1.023919 |\n",
       "\n"
      ],
      "text/plain": [
       "  Date       stock_growth lagged_fear_value inflation_rate exchange_rate\n",
       "1 2004-03-01 -2.3052809    7.333333         0.7759457      1.3286       \n",
       "2 2004-04-01 -3.9821146   10.333333         1.6601560      1.3420       \n",
       "3 2004-05-01  2.1021325   16.000000         2.4390240      1.3789       \n",
       "4 2004-06-01  1.5242395   12.000000         2.5365850      1.3578       \n",
       "5 2004-07-01 -1.0239188    6.000000         2.3391810      1.3225       \n",
       "6 2004-08-01 -0.9588396    0.000000         1.8464530      1.3127       \n",
       "  lagged_stock_growth\n",
       "1  3.134457          \n",
       "2 -2.305281          \n",
       "3 -3.982115          \n",
       "4  2.102133          \n",
       "5  1.524239          \n",
       "6 -1.023919          "
      ]
     },
     "metadata": {},
     "output_type": "display_data"
    }
   ],
   "source": [
    "#Combine fear index with stock performance data and control variables, lag the fear values by 1 month\n",
    "stock_fear_data_untidy <- cbind(stock_monthly_growth, \n",
    "                                fear_index,\n",
    "                                inflation_tidy,\n",
    "                                exchange_rate_tidy,\n",
    "                                stock_monthly_growth_lag) |>\n",
    "  select(Date, stock_growth, fear_value, inflation_rate, exchange_rate,\n",
    "         lagged_stock_growth) |>\n",
    "  filter(!is.na(stock_growth)) |>\n",
    "  mutate(lagged_fear_value = lag(fear_value, n = 1)) \n",
    "\n",
    "#Clean the data by removing NAs \n",
    "stock_fear_data_tidy <- stock_fear_data_untidy |>\n",
    "  filter(!is.na(lagged_fear_value)) |>\n",
    "  select(Date, stock_growth, lagged_fear_value, inflation_rate, exchange_rate,\n",
    "         lagged_stock_growth) \n",
    "head(stock_fear_data_tidy)"
   ]
  },
  {
   "cell_type": "markdown",
   "id": "7b5d28a0-4ed4-4be0-8044-e06390db28a7",
   "metadata": {},
   "source": [
    "## <u>Summary Statistics<u> "
   ]
  },
  {
   "cell_type": "markdown",
   "id": "ca5bb87a-1f03-4474-b960-c6f95e798bcb",
   "metadata": {},
   "source": [
    "This section shows the summary statistics for the key variables we have used in our analysis. The table below shows the mean, standard deviation, minimum, and maximum for each variable- **Stock Growth, Lagged Fear Index, Inflation Rate, Exchange Rate, and Lagged Stock Growth**.  "
   ]
  },
  {
   "cell_type": "code",
   "execution_count": 18,
   "id": "7e35714c-089c-45ce-b052-92fbbc202572",
   "metadata": {},
   "outputs": [
    {
     "name": "stdout",
     "output_type": "stream",
     "text": [
      "\n",
      "Summary Statistics for Variables\n",
      "======================================================\n",
      "Statistic            N   Mean  St. Dev.   Min    Max  \n",
      "------------------------------------------------------\n",
      "stock_growth        251 0.500   3.806   -17.735 11.210\n",
      "lagged_fear_value   251 16.328  10.816   0.000  93.667\n",
      "inflation_rate      251 2.176   1.451   -0.950  8.133 \n",
      "exchange_rate       251 1.201   0.135    0.955  1.439 \n",
      "lagged_stock_growth 251 0.499   3.806   -17.735 11.210\n",
      "------------------------------------------------------\n"
     ]
    },
    {
     "name": "stderr",
     "output_type": "stream",
     "text": [
      "Non-numeric variables removed from input: `Date`\n",
      "Correlation computed with\n",
      "\u001b[36m•\u001b[39m Method: 'pearson'\n",
      "\u001b[36m•\u001b[39m Missing treated using: 'complete.obs'\n"
     ]
    },
    {
     "name": "stdout",
     "output_type": "stream",
     "text": [
      "\n",
      "=====================================================================================================\n",
      "         term         stock_growth lagged_fear_value inflation_rate exchange_rate lagged_stock_growth\n",
      "-----------------------------------------------------------------------------------------------------\n",
      "1    stock_growth                        0.074           -0.124         0.023            0.042       \n",
      "2  lagged_fear_value     0.074                           0.141          0.462           -0.232       \n",
      "3   inflation_rate       -0.124          0.141                          0.173           -0.062       \n",
      "4    exchange_rate       0.023           0.462           0.173                          -0.046       \n",
      "5 lagged_stock_growth    0.042          -0.232           -0.062        -0.046                        \n",
      "-----------------------------------------------------------------------------------------------------\n"
     ]
    }
   ],
   "source": [
    "library(knitr) # this library helps with the integration of R code into LaTeX \n",
    "library(stargazer)\n",
    "library(corrr)\n",
    "# Rename for readability\n",
    "summary_data <- stock_fear_data_tidy |>\n",
    "  rename(\n",
    "    \"Stock Growth (%)\" = stock_growth,\n",
    "    \"Lagged Fear Index\" = lagged_fear_value,\n",
    "    \"Inflation Rate (%)\" = inflation_rate,\n",
    "    \"Exchange Rate (CAD/USD)\" = exchange_rate,\n",
    "    \"Lagged Stock Growth (%)\" = lagged_stock_growth\n",
    "  )\n",
    "\n",
    "#Summary Table\n",
    "stargazer(as.data.frame(stock_fear_data_tidy), \n",
    "          type = \"text\", \n",
    "          title = \"Summary Statistics for Variables\",\n",
    "          summary = TRUE)\n",
    "\n",
    "#Correlation Matrix\n",
    "cor_matrix <- as.data.frame(correlate(stock_fear_data_tidy, use = \"complete.obs\"))\n",
    "stargazer(cor_matrix,\n",
    "          type = \"text\", \n",
    "          summary = FALSE,\n",
    "          out = \"correlation_table.html\" )"
   ]
  },
  {
   "cell_type": "markdown",
   "id": "9a60bb20-8670-4340-9e57-9b5987e8aed1",
   "metadata": {},
   "source": [
    "## <u>Model Specification<u>"
   ]
  },
  {
   "cell_type": "markdown",
   "id": "76374bc4-4f44-4f9a-8d43-2a7127f44230",
   "metadata": {},
   "source": [
    "This section has the main regression model. "
   ]
  },
  {
   "cell_type": "code",
   "execution_count": 42,
   "id": "3bdd1bae-519c-4c92-89b3-52ccf4d29377",
   "metadata": {},
   "outputs": [
    {
     "data": {
      "text/plain": [
       "\n",
       "Call:\n",
       "lm(formula = stock_growth ~ lagged_fear_value + inflation_rate + \n",
       "    exchange_rate + lagged_stock_growth, data = stock_fear_data_tidy)\n",
       "\n",
       "Residuals:\n",
       "     Min       1Q   Median       3Q      Max \n",
       "-18.6961  -1.8361   0.4018   2.3502   9.3597 \n",
       "\n",
       "Coefficients:\n",
       "                     Estimate Std. Error t value Pr(>|t|)  \n",
       "(Intercept)          0.623673   2.251085   0.277   0.7820  \n",
       "lagged_fear_value    0.037376   0.025737   1.452   0.1477  \n",
       "inflation_rate      -0.355140   0.168059  -2.113   0.0356 *\n",
       "exchange_rate        0.007777   2.016028   0.004   0.9969  \n",
       "lagged_stock_growth  0.058357   0.064867   0.900   0.3692  \n",
       "---\n",
       "Signif. codes:  0 ‘***’ 0.001 ‘**’ 0.01 ‘*’ 0.05 ‘.’ 0.1 ‘ ’ 1\n",
       "\n",
       "Residual standard error: 3.785 on 246 degrees of freedom\n",
       "Multiple R-squared:  0.02707,\tAdjusted R-squared:  0.01125 \n",
       "F-statistic: 1.711 on 4 and 246 DF,  p-value: 0.148\n"
      ]
     },
     "metadata": {},
     "output_type": "display_data"
    }
   ],
   "source": [
    "# Linear regression model: stock_growth explained by lagged_fear_value and controls\n",
    "model <- lm(stock_growth ~ lagged_fear_value + inflation_rate + exchange_rate + lagged_stock_growth,\n",
    "            data = stock_fear_data_tidy)\n",
    "# view the detailed results \n",
    "summary(model)"
   ]
  },
  {
   "cell_type": "markdown",
   "id": "f7310533-be5c-4e40-a3f3-dca5d6be285a",
   "metadata": {},
   "source": [
    "## <u>Table of Results<u>"
   ]
  },
  {
   "cell_type": "markdown",
   "id": "473510d4-1a8b-4823-9f65-eff0b0ed5c08",
   "metadata": {},
   "source": [
    "The table below shows the regression output of the main model. The `stargazer` package has been used to present the results in a clean and legible format. "
   ]
  },
  {
   "cell_type": "code",
   "execution_count": 48,
   "id": "fc417dd8-c4ed-4304-a5c6-f1b7d3a7c656",
   "metadata": {},
   "outputs": [
    {
     "name": "stdout",
     "output_type": "stream",
     "text": [
      "\n",
      "Regression Results: Stock Growth and Fear Index\n",
      "===============================================\n",
      "                        Dependent variable:    \n",
      "                    ---------------------------\n",
      "                           stock_growth        \n",
      "-----------------------------------------------\n",
      "lagged_fear_value              0.037           \n",
      "                              (0.026)          \n",
      "                                               \n",
      "inflation_rate               -0.355**          \n",
      "                              (0.168)          \n",
      "                                               \n",
      "exchange_rate                  0.008           \n",
      "                              (2.016)          \n",
      "                                               \n",
      "lagged_stock_growth            0.058           \n",
      "                              (0.065)          \n",
      "                                               \n",
      "Constant                       0.624           \n",
      "                              (2.251)          \n",
      "                                               \n",
      "-----------------------------------------------\n",
      "Observations                    251            \n",
      "R2                             0.027           \n",
      "Adjusted R2                    0.011           \n",
      "Residual Std. Error      3.785 (df = 246)      \n",
      "F Statistic             1.711 (df = 4; 246)    \n",
      "===============================================\n",
      "Note:               *p<0.1; **p<0.05; ***p<0.01\n"
     ]
    }
   ],
   "source": [
    "# Use stargazer for a formatted regression output\n",
    "library(stargazer)\n",
    "stargazer(model, type = \"text\", title = \"Regression Results: Stock Growth and Fear Index\")\n"
   ]
  },
  {
   "cell_type": "markdown",
   "id": "7cd54dc0-ca1a-4016-8442-5f9dae789dfe",
   "metadata": {},
   "source": [
    "## <u>Discussion<u>"
   ]
  },
  {
   "cell_type": "code",
   "execution_count": null,
   "id": "c1d0807f-7da7-4ed7-be80-8f34bc56c38f",
   "metadata": {},
   "outputs": [],
   "source": []
  },
  {
   "cell_type": "markdown",
   "id": "d472aa7b-3cb6-443e-bc25-9ebd548c7bd9",
   "metadata": {},
   "source": [
    "## <u>Specification Check<u>"
   ]
  },
  {
   "cell_type": "markdown",
   "id": "2b9da734-a9bb-4e1a-9d52-b4d97cb7918f",
   "metadata": {},
   "source": [
    "To ensure the validity of our regression model, we perform two specification checks:\n",
    "\n",
    "1. Breusch-Pagan test to check for heteroskedasticity in the residuals.\n",
    "2. Variance Inflation Factor (VIF) test to detect multicollinearity among independent variables.\n"
   ]
  },
  {
   "cell_type": "code",
   "execution_count": 31,
   "id": "c4f66d02-eac1-4e7a-b04f-5bbfc260bcbc",
   "metadata": {},
   "outputs": [
    {
     "data": {
      "text/plain": [
       "\n",
       "\tstudentized Breusch-Pagan test\n",
       "\n",
       "data:  model\n",
       "BP = 27.014, df = 4, p-value = 1.975e-05\n"
      ]
     },
     "metadata": {},
     "output_type": "display_data"
    }
   ],
   "source": [
    "library(lmtest)\n",
    "\n",
    "bp_test <- bptest(model)\n",
    "bp_test\n"
   ]
  },
  {
   "cell_type": "markdown",
   "id": "77723ef7-d55d-4931-be2d-8522d0f902fe",
   "metadata": {},
   "source": [
    "\n",
    "The p-value of the Breusch-Pagan test is 1.975e-05, which is below the 0.05 significance level. \n",
    "\n",
    "This indicates that there is heteroskedasticity in our model. Therefore, we need to be cautious when interpreting the regression results, as heteroskedasticity can lead to less reliable estimation.\n"
   ]
  },
  {
   "cell_type": "code",
   "execution_count": 33,
   "id": "a522e9e0-fe95-489a-86d2-805416ed183c",
   "metadata": {},
   "outputs": [
    {
     "name": "stderr",
     "output_type": "stream",
     "text": [
      "Loading required package: carData\n",
      "\n",
      "\n",
      "Attaching package: ‘car’\n",
      "\n",
      "\n",
      "The following object is masked from ‘package:dplyr’:\n",
      "\n",
      "    recode\n",
      "\n",
      "\n",
      "The following object is masked from ‘package:purrr’:\n",
      "\n",
      "    some\n",
      "\n",
      "\n"
     ]
    },
    {
     "data": {
      "text/html": [
       "<style>\n",
       ".dl-inline {width: auto; margin:0; padding: 0}\n",
       ".dl-inline>dt, .dl-inline>dd {float: none; width: auto; display: inline-block}\n",
       ".dl-inline>dt::after {content: \":\\0020\"; padding-right: .5ex}\n",
       ".dl-inline>dt:not(:first-of-type) {padding-left: .5ex}\n",
       "</style><dl class=dl-inline><dt>lagged_fear_value</dt><dd>1.35228065807526</dd><dt>inflation_rate</dt><dd>1.03747313940093</dd><dt>exchange_rate</dt><dd>1.29825584602278</dd><dt>lagged_stock_growth</dt><dd>1.063696015659</dd></dl>\n"
      ],
      "text/latex": [
       "\\begin{description*}\n",
       "\\item[lagged\\textbackslash{}\\_fear\\textbackslash{}\\_value] 1.35228065807526\n",
       "\\item[inflation\\textbackslash{}\\_rate] 1.03747313940093\n",
       "\\item[exchange\\textbackslash{}\\_rate] 1.29825584602278\n",
       "\\item[lagged\\textbackslash{}\\_stock\\textbackslash{}\\_growth] 1.063696015659\n",
       "\\end{description*}\n"
      ],
      "text/markdown": [
       "lagged_fear_value\n",
       ":   1.35228065807526inflation_rate\n",
       ":   1.03747313940093exchange_rate\n",
       ":   1.29825584602278lagged_stock_growth\n",
       ":   1.063696015659\n",
       "\n"
      ],
      "text/plain": [
       "  lagged_fear_value      inflation_rate       exchange_rate lagged_stock_growth \n",
       "           1.352281            1.037473            1.298256            1.063696 "
      ]
     },
     "metadata": {},
     "output_type": "display_data"
    }
   ],
   "source": [
    "library(car)\n",
    "\n",
    "vif_values <- vif(model)\n",
    "vif_values\n"
   ]
  },
  {
   "cell_type": "markdown",
   "id": "1870f2bd-82bd-4a6b-86aa-cd53463dceef",
   "metadata": {},
   "source": [
    "The VIF values for all variables are as follows:\n",
    "\n",
    "- lagged_fear_value: 1.35\n",
    "- inflation_rate: 1.04\n",
    "- exchange_rate: 1.29\n",
    "- lagged_stock_growth: 1.06\n",
    "\n",
    "All VIF results are below the threshold of 5, we conclude that there is no significant multicollinearity among the independent variables in our model.\n"
   ]
  },
  {
   "cell_type": "markdown",
   "id": "03ee2244-2d62-4fa4-ad45-90f42b98d16f",
   "metadata": {},
   "source": [
    "## <u>Robustness Analysis<u>"
   ]
  },
  {
   "cell_type": "markdown",
   "id": "1bb37540-2ed1-4854-9471-a1042d0818b6",
   "metadata": {},
   "source": [
    "To test the robustness of our findings, we extend our model by adding an additional variable: the lagged CPI (inflation) value. \n",
    "Inflation changes, as measured by CPI, often take time to influence stock market behavior. \n",
    "When consumer prices rise, companies may not immediately adjust production or pricing strategies. Instead, it usually takes time for businesses to reflect higher costs in their operations and for consumers to respond by changing their spending habits. \n",
    "Similarly, investors react to inflation data with  delay, as they may wait for confirmation of trends and potential policy responses such as interest rate adjustments by the central bank.\n",
    "\n",
    "By including lagged CPI in our regression model, we try to capture these delayed effects of inflation on stock market performance. This allows us to examine whether inflation's impact on stock returns is immediate or occurs over time, helping to validate the robustness of our findings.\n",
    "\n"
   ]
  },
  {
   "cell_type": "code",
   "execution_count": 39,
   "id": "06e04b0b-5a6e-46cb-bfee-aaee91d26f6e",
   "metadata": {},
   "outputs": [],
   "source": [
    "stock_fear_data_tidy <- stock_fear_data_tidy %>%\n",
    "  arrange(Date) %>%\n",
    "  mutate(lagged_inflation = lag(inflation_rate))\n",
    "\n"
   ]
  },
  {
   "cell_type": "code",
   "execution_count": 40,
   "id": "212a9ff8-6ba3-429c-ad42-6983d3c75658",
   "metadata": {},
   "outputs": [
    {
     "data": {
      "text/plain": [
       "\n",
       "Call:\n",
       "lm(formula = stock_growth ~ lagged_fear_value + inflation_rate + \n",
       "    lagged_inflation + exchange_rate + lagged_stock_growth, data = stock_fear_data_tidy)\n",
       "\n",
       "Residuals:\n",
       "    Min      1Q  Median      3Q     Max \n",
       "-17.218  -1.597   0.187   2.244   9.293 \n",
       "\n",
       "Coefficients:\n",
       "                    Estimate Std. Error t value Pr(>|t|)   \n",
       "(Intercept)          0.50643    2.23046   0.227   0.8206   \n",
       "lagged_fear_value    0.04874    0.02595   1.878   0.0616 . \n",
       "inflation_rate       1.08222    0.55911   1.936   0.0541 . \n",
       "lagged_inflation    -1.53320    0.56573  -2.710   0.0072 **\n",
       "exchange_rate        0.14136    2.00183   0.071   0.9438   \n",
       "lagged_stock_growth  0.02867    0.06511   0.440   0.6601   \n",
       "---\n",
       "Signif. codes:  0 ‘***’ 0.001 ‘**’ 0.01 ‘*’ 0.05 ‘.’ 0.1 ‘ ’ 1\n",
       "\n",
       "Residual standard error: 3.739 on 244 degrees of freedom\n",
       "  (1 observation deleted due to missingness)\n",
       "Multiple R-squared:  0.05611,\tAdjusted R-squared:  0.03677 \n",
       "F-statistic: 2.901 on 5 and 244 DF,  p-value: 0.01453\n"
      ]
     },
     "metadata": {},
     "output_type": "display_data"
    }
   ],
   "source": [
    "robust_model <- lm(stock_growth ~ lagged_fear_value + inflation_rate + lagged_inflation + exchange_rate + lagged_stock_growth, data = stock_fear_data_tidy)\n",
    "summary(robust_model)\n"
   ]
  },
  {
   "cell_type": "code",
   "execution_count": 41,
   "id": "ee24160f-6b60-4eaf-9c74-b47bf21345c2",
   "metadata": {},
   "outputs": [
    {
     "data": {
      "text/html": [
       "<table class=\"dataframe\">\n",
       "<caption>A tibble: 6 × 5</caption>\n",
       "<thead>\n",
       "\t<tr><th scope=col>term</th><th scope=col>estimate</th><th scope=col>std.error</th><th scope=col>statistic</th><th scope=col>p.value</th></tr>\n",
       "\t<tr><th scope=col>&lt;chr&gt;</th><th scope=col>&lt;dbl&gt;</th><th scope=col>&lt;dbl&gt;</th><th scope=col>&lt;dbl&gt;</th><th scope=col>&lt;dbl&gt;</th></tr>\n",
       "</thead>\n",
       "<tbody>\n",
       "\t<tr><td>(Intercept)        </td><td> 0.50642635</td><td>2.23045654</td><td> 0.22705053</td><td>0.82057456</td></tr>\n",
       "\t<tr><td>lagged_fear_value  </td><td> 0.04874325</td><td>0.02595416</td><td> 1.87805137</td><td>0.06156676</td></tr>\n",
       "\t<tr><td>inflation_rate     </td><td> 1.08222255</td><td>0.55910906</td><td> 1.93561979</td><td>0.05406961</td></tr>\n",
       "\t<tr><td>lagged_inflation   </td><td>-1.53319712</td><td>0.56573331</td><td>-2.71010577</td><td>0.00720345</td></tr>\n",
       "\t<tr><td>exchange_rate      </td><td> 0.14136135</td><td>2.00183339</td><td> 0.07061594</td><td>0.94376127</td></tr>\n",
       "\t<tr><td>lagged_stock_growth</td><td> 0.02867139</td><td>0.06510998</td><td> 0.44035330</td><td>0.66007109</td></tr>\n",
       "</tbody>\n",
       "</table>\n"
      ],
      "text/latex": [
       "A tibble: 6 × 5\n",
       "\\begin{tabular}{lllll}\n",
       " term & estimate & std.error & statistic & p.value\\\\\n",
       " <chr> & <dbl> & <dbl> & <dbl> & <dbl>\\\\\n",
       "\\hline\n",
       "\t (Intercept)         &  0.50642635 & 2.23045654 &  0.22705053 & 0.82057456\\\\\n",
       "\t lagged\\_fear\\_value   &  0.04874325 & 0.02595416 &  1.87805137 & 0.06156676\\\\\n",
       "\t inflation\\_rate      &  1.08222255 & 0.55910906 &  1.93561979 & 0.05406961\\\\\n",
       "\t lagged\\_inflation    & -1.53319712 & 0.56573331 & -2.71010577 & 0.00720345\\\\\n",
       "\t exchange\\_rate       &  0.14136135 & 2.00183339 &  0.07061594 & 0.94376127\\\\\n",
       "\t lagged\\_stock\\_growth &  0.02867139 & 0.06510998 &  0.44035330 & 0.66007109\\\\\n",
       "\\end{tabular}\n"
      ],
      "text/markdown": [
       "\n",
       "A tibble: 6 × 5\n",
       "\n",
       "| term &lt;chr&gt; | estimate &lt;dbl&gt; | std.error &lt;dbl&gt; | statistic &lt;dbl&gt; | p.value &lt;dbl&gt; |\n",
       "|---|---|---|---|---|\n",
       "| (Intercept)         |  0.50642635 | 2.23045654 |  0.22705053 | 0.82057456 |\n",
       "| lagged_fear_value   |  0.04874325 | 0.02595416 |  1.87805137 | 0.06156676 |\n",
       "| inflation_rate      |  1.08222255 | 0.55910906 |  1.93561979 | 0.05406961 |\n",
       "| lagged_inflation    | -1.53319712 | 0.56573331 | -2.71010577 | 0.00720345 |\n",
       "| exchange_rate       |  0.14136135 | 2.00183339 |  0.07061594 | 0.94376127 |\n",
       "| lagged_stock_growth |  0.02867139 | 0.06510998 |  0.44035330 | 0.66007109 |\n",
       "\n"
      ],
      "text/plain": [
       "  term                estimate    std.error  statistic   p.value   \n",
       "1 (Intercept)          0.50642635 2.23045654  0.22705053 0.82057456\n",
       "2 lagged_fear_value    0.04874325 0.02595416  1.87805137 0.06156676\n",
       "3 inflation_rate       1.08222255 0.55910906  1.93561979 0.05406961\n",
       "4 lagged_inflation    -1.53319712 0.56573331 -2.71010577 0.00720345\n",
       "5 exchange_rate        0.14136135 2.00183339  0.07061594 0.94376127\n",
       "6 lagged_stock_growth  0.02867139 0.06510998  0.44035330 0.66007109"
      ]
     },
     "metadata": {},
     "output_type": "display_data"
    }
   ],
   "source": [
    "library(broom)\n",
    "tidy(robust_model)"
   ]
  },
  {
   "cell_type": "markdown",
   "id": "98649107-37de-458a-b692-e5e64bf10911",
   "metadata": {},
   "source": [
    "The robustness analysis with lagged inflation shows improvements to our model. In the original model, our key explanatory variable, lagged fear value, had a coefficient of 0.0374 and a p-value of 0.1477, this shows that it has a positive but not statistically significant relationship with stock growth. In the robustness model, after including lagged inflation, the coefficient of lagged fear value is 0.0487, and its p-value decrease to 0.0616,  becomes more statistically significant. The overall direction and approximate magnitude of our main explanatory variable remain consistent. The robustness check confirms that our original conclusions hold, even when considering the delayed impacts of inflation, therefore, increasing the credibility of our results.\n",
    "\n",
    "\n",
    "Furthermore, the lagged inflation shows a statistically significant negative effect on stock performance, with a coefficient of -1.5332 and a p-value of 0.0072. This suggests that past inflation exerts a delayed downward pressure on the stock market, this might be due to accumulated cost pressures and tighter monetary policy. The current period inflation rate shows a positive coefficient of 1.0822 and a marginal p-value of 0.0541. This difference indicates that markets may initially consider rising inflation as a sign of economic growth, but the delayed impact of inflation will have negative impact over time."
   ]
  },
  {
   "cell_type": "markdown",
   "id": "5556848c-f703-41aa-a0e5-173a9713398f",
   "metadata": {},
   "source": [
    "## <u>Conclusion<u>"
   ]
  },
  {
   "cell_type": "code",
   "execution_count": null,
   "id": "49d1e454-bcaa-4860-beb4-275033181923",
   "metadata": {},
   "outputs": [],
   "source": []
  },
  {
   "cell_type": "markdown",
   "id": "0a5c8dd6-d3ea-441f-b5cd-f4f71138135a",
   "metadata": {},
   "source": [
    "## <u>References<u>"
   ]
  },
  {
   "cell_type": "code",
   "execution_count": null,
   "id": "f9c2b31b-39c8-4fd4-bd4a-0ef90846091c",
   "metadata": {},
   "outputs": [],
   "source": []
  }
 ],
 "metadata": {
  "kernelspec": {
   "display_name": "R",
   "language": "R",
   "name": "ir"
  },
  "language_info": {
   "codemirror_mode": "r",
   "file_extension": ".r",
   "mimetype": "text/x-r-source",
   "name": "R",
   "pygments_lexer": "r",
   "version": "4.4.1"
  }
 },
 "nbformat": 4,
 "nbformat_minor": 5
}
