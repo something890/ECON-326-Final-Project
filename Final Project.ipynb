{
 "cells": [
  {
   "cell_type": "markdown",
   "id": "8f80b1a0-449d-45a3-9dcb-816cd6d7930e",
   "metadata": {},
   "source": [
    "# ECON 326 Group Final Report\n",
    "#### Group 14 - Bhavya Dubey, Kashie Ugoji, Ruiquin Wang, Zhuoying Sun"
   ]
  },
  {
   "cell_type": "markdown",
   "id": "6d6d65bb-26c8-45ae-b6fd-69a1df6f8e28",
   "metadata": {},
   "source": [
    "## <u>Introduction<u>"
   ]
  },
  {
   "cell_type": "markdown",
   "id": "ad88ac84-f7bc-4467-8ec5-e948c3eb8036",
   "metadata": {},
   "source": [
    "When looking at the current nature of the financial markets, it is clear how much influence they have in our society. With around 63% of young adults (ages 18-34) **(remember to cite)** believing in building their wealth through the stock exchange, it shows how much of a focal point this aspect of our economy is for many people. More than ever, the ability to understand how the markets work and components that might affect it, is becoming an invaluable skill. With so much information readily available, it can sometimes feel like there is an oversaturated level of things that people must learn in order to form even a basic understanding of expected stock market performance. However, one of the basic things that people quickly realize, is that the collective sentiment of consumers and investors ultimately has a major influence on how markets perform.  \n",
    "\n",
    "One of the phrases financial experts will say to people is to not \"panic\" during economic uncertainty as this may end up being the very origin of economic downturn. But how true is this claim? What if panicking and overall sentiments of fear are simply reactions to already existing economic instability caused by other factors, rather than potential indicators of future downturn in itself. For this research study, we explore this very topic. We are looking to explore the predictive nature that overall sentiments towards the economy can have on the stock market. More specifically, we want to see if **people's feelings of fear or uncertainty towards the economy can accurately predict stock market performance**. "
   ]
  },
  {
   "cell_type": "markdown",
   "id": "8c0dced4-f574-47ea-828b-42463c0710e7",
   "metadata": {},
   "source": [
    "## <u>Data Description<u>"
   ]
  },
  {
   "cell_type": "markdown",
   "id": "4fbb1d27-b124-48e5-9279-f25e944c1d12",
   "metadata": {},
   "source": [
    "To conduct this analysis, we will be looking at data that is able to accurately quantify both the sentiment people have towards the economy, and also how stocks will be performing. "
   ]
  },
  {
   "cell_type": "markdown",
   "id": "f6f85457-d104-402d-9a2f-ce11dd41500d",
   "metadata": {},
   "source": [
    "### Fear Index Wrangling"
   ]
  },
  {
   "cell_type": "markdown",
   "id": "d6288962-05ae-4920-bb70-67f0c54f657f",
   "metadata": {},
   "source": [
    "We will quantify the **sentiment of \"fear\"** that people have towards the economy through **search-term data from Google Trends**. Google Trends uses relative popularity scores ranging from 0-100 in order to quantify how much a term was searched on google related platforms. A **popularity score of 100** would represent the peak amount a term was searched relative to its own history, and a **popularity score of 0** would represent the lowest amount a term was searched relatively. We will use the search terms **\"recession\"**, **\"layoffs\"** and **\"stock crash\"** spanning from **January 2004** (farthest timeline possible for Google Trends) to **April 2025** showing their monthly popularity scores as markers of fears. We chose these search terms as they are common terms people might search up when they are skeptical or worried about the economy. Using the `tidyverse` library, we will then make our own **\"fear index\"** where we will find the **mean** value of these collective popularity scores and use that as our explanatory variable for sentiment of fear towards the economy. "
   ]
  },
  {
   "cell_type": "markdown",
   "id": "7cd7a48d-7652-43af-bf96-5b728cb07d2e",
   "metadata": {},
   "source": [
    "We first load the `tidyverse` library"
   ]
  },
  {
   "cell_type": "code",
   "execution_count": 1,
   "id": "a75dcfa1-c44b-4f95-8169-b9a1cce2ceeb",
   "metadata": {},
   "outputs": [
    {
     "name": "stderr",
     "output_type": "stream",
     "text": [
      "Warning message:\n",
      "“package ‘lubridate’ was built under R version 4.4.2”\n",
      "── \u001b[1mAttaching core tidyverse packages\u001b[22m ──────────────────────── tidyverse 2.0.0 ──\n",
      "\u001b[32m✔\u001b[39m \u001b[34mdplyr    \u001b[39m 1.1.4     \u001b[32m✔\u001b[39m \u001b[34mreadr    \u001b[39m 2.1.5\n",
      "\u001b[32m✔\u001b[39m \u001b[34mforcats  \u001b[39m 1.0.0     \u001b[32m✔\u001b[39m \u001b[34mstringr  \u001b[39m 1.5.1\n",
      "\u001b[32m✔\u001b[39m \u001b[34mggplot2  \u001b[39m 3.5.1     \u001b[32m✔\u001b[39m \u001b[34mtibble   \u001b[39m 3.2.1\n",
      "\u001b[32m✔\u001b[39m \u001b[34mlubridate\u001b[39m 1.9.4     \u001b[32m✔\u001b[39m \u001b[34mtidyr    \u001b[39m 1.3.1\n",
      "\u001b[32m✔\u001b[39m \u001b[34mpurrr    \u001b[39m 1.0.2     \n",
      "── \u001b[1mConflicts\u001b[22m ────────────────────────────────────────── tidyverse_conflicts() ──\n",
      "\u001b[31m✖\u001b[39m \u001b[34mdplyr\u001b[39m::\u001b[32mfilter()\u001b[39m masks \u001b[34mstats\u001b[39m::filter()\n",
      "\u001b[31m✖\u001b[39m \u001b[34mdplyr\u001b[39m::\u001b[32mlag()\u001b[39m    masks \u001b[34mstats\u001b[39m::lag()\n",
      "\u001b[36mℹ\u001b[39m Use the conflicted package (\u001b[3m\u001b[34m<http://conflicted.r-lib.org/>\u001b[39m\u001b[23m) to force all conflicts to become errors\n"
     ]
    }
   ],
   "source": [
    "library(tidyverse)"
   ]
  },
  {
   "cell_type": "markdown",
   "id": "92cf6940-3b54-4a58-bb12-bddb2c231484",
   "metadata": {},
   "source": [
    "Now we can import our data from **Google Trends** with the files `layoffs.csv`, `recession.csv` and `stock crash.csv`"
   ]
  },
  {
   "cell_type": "code",
   "execution_count": 2,
   "id": "25c36322-f014-4fb7-8d31-d7babc243b6c",
   "metadata": {},
   "outputs": [
    {
     "name": "stderr",
     "output_type": "stream",
     "text": [
      "\u001b[1mRows: \u001b[22m\u001b[34m256\u001b[39m \u001b[1mColumns: \u001b[22m\u001b[34m2\u001b[39m\n",
      "\u001b[36m──\u001b[39m \u001b[1mColumn specification\u001b[22m \u001b[36m────────────────────────────────────────────────────────\u001b[39m\n",
      "\u001b[1mDelimiter:\u001b[22m \",\"\n",
      "\u001b[31mchr\u001b[39m (1): Month\n",
      "\u001b[32mdbl\u001b[39m (1): layoffs: (Canada)\n",
      "\n",
      "\u001b[36mℹ\u001b[39m Use `spec()` to retrieve the full column specification for this data.\n",
      "\u001b[36mℹ\u001b[39m Specify the column types or set `show_col_types = FALSE` to quiet this message.\n",
      "\u001b[1mRows: \u001b[22m\u001b[34m256\u001b[39m \u001b[1mColumns: \u001b[22m\u001b[34m2\u001b[39m\n",
      "\u001b[36m──\u001b[39m \u001b[1mColumn specification\u001b[22m \u001b[36m────────────────────────────────────────────────────────\u001b[39m\n",
      "\u001b[1mDelimiter:\u001b[22m \",\"\n",
      "\u001b[31mchr\u001b[39m (1): Month\n",
      "\u001b[32mdbl\u001b[39m (1): recession: (Canada)\n",
      "\n",
      "\u001b[36mℹ\u001b[39m Use `spec()` to retrieve the full column specification for this data.\n",
      "\u001b[36mℹ\u001b[39m Specify the column types or set `show_col_types = FALSE` to quiet this message.\n",
      "\u001b[1mRows: \u001b[22m\u001b[34m256\u001b[39m \u001b[1mColumns: \u001b[22m\u001b[34m2\u001b[39m\n",
      "\u001b[36m──\u001b[39m \u001b[1mColumn specification\u001b[22m \u001b[36m────────────────────────────────────────────────────────\u001b[39m\n",
      "\u001b[1mDelimiter:\u001b[22m \",\"\n",
      "\u001b[31mchr\u001b[39m (1): Month\n",
      "\u001b[32mdbl\u001b[39m (1): stock crash: (Canada)\n",
      "\n",
      "\u001b[36mℹ\u001b[39m Use `spec()` to retrieve the full column specification for this data.\n",
      "\u001b[36mℹ\u001b[39m Specify the column types or set `show_col_types = FALSE` to quiet this message.\n"
     ]
    }
   ],
   "source": [
    "#Raw data for search-term \"layoffs\" (Jan 2004- April 2025)\n",
    "layoffs_untidy <- read_csv(\"/home/jupyter/ECON-326-Final-Project/layoffs.csv\", \n",
    "                    skip = 2)\n",
    "#Raw data for search-term \"recession\" (Jan 2004- April 2025)\n",
    "recession_untidy <- read_csv(\"/home/jupyter/ECON-326-Final-Project/recession.csv\", \n",
    "                      skip = 2) \n",
    "#Raw data for search-term \"stock crash\" (Jan 2004- April 2025)\n",
    "stock_crash_untidy <- read_csv(\"/home/jupyter/ECON-326-Final-Project/stock_crash.csv\", \n",
    "                        skip = 2)\n",
    "\n",
    "#Cleaning search-term data so that it is in a suitable format for future modelling \n",
    "stock_crash_tidy <- stock_crash_untidy |>\n",
    "  mutate(term_date1 = ym(Month)) |>\n",
    "  select(term_date1, `stock crash: (Canada)`) \n",
    "\n",
    "recession_tidy <- recession_untidy |>\n",
    "  mutate(term_date2 = ym(Month)) |>\n",
    "  select(term_date2, `recession: (Canada)`)\n",
    "\n",
    "layoffs_tidy <- layoffs_untidy |>\n",
    "  mutate(term_date3 = ym(Month)) |>\n",
    "  select(term_date3, `layoffs: (Canada)`) \n"
   ]
  },
  {
   "cell_type": "markdown",
   "id": "d08173b0-5ed3-4f70-b814-3e698e1322f6",
   "metadata": {},
   "source": [
    "With the cleaned data, we can make our **fear index**, showing it in through the variable `fear_value`"
   ]
  },
  {
   "cell_type": "code",
   "execution_count": 3,
   "id": "472dd438-a71c-4fa9-a8cb-6f17843e8345",
   "metadata": {},
   "outputs": [
    {
     "data": {
      "text/html": [
       "<table class=\"dataframe\">\n",
       "<caption>A data.frame: 6 × 5</caption>\n",
       "<thead>\n",
       "\t<tr><th></th><th scope=col>term_date</th><th scope=col>stock crash: (Canada)</th><th scope=col>recession: (Canada)</th><th scope=col>layoffs: (Canada)</th><th scope=col>fear_value</th></tr>\n",
       "\t<tr><th></th><th scope=col>&lt;date&gt;</th><th scope=col>&lt;dbl&gt;</th><th scope=col>&lt;dbl&gt;</th><th scope=col>&lt;dbl&gt;</th><th scope=col>&lt;dbl&gt;</th></tr>\n",
       "</thead>\n",
       "<tbody>\n",
       "\t<tr><th scope=row>1</th><td>2004-01-01</td><td>24</td><td>3</td><td>6</td><td>11.000000</td></tr>\n",
       "\t<tr><th scope=row>2</th><td>2004-02-01</td><td>14</td><td>0</td><td>8</td><td> 7.333333</td></tr>\n",
       "\t<tr><th scope=row>3</th><td>2004-03-01</td><td>23</td><td>0</td><td>8</td><td>10.333333</td></tr>\n",
       "\t<tr><th scope=row>4</th><td>2004-04-01</td><td>36</td><td>4</td><td>8</td><td>16.000000</td></tr>\n",
       "\t<tr><th scope=row>5</th><td>2004-05-01</td><td>28</td><td>3</td><td>5</td><td>12.000000</td></tr>\n",
       "\t<tr><th scope=row>6</th><td>2004-06-01</td><td>18</td><td>0</td><td>0</td><td> 6.000000</td></tr>\n",
       "</tbody>\n",
       "</table>\n"
      ],
      "text/latex": [
       "A data.frame: 6 × 5\n",
       "\\begin{tabular}{r|lllll}\n",
       "  & term\\_date & stock crash: (Canada) & recession: (Canada) & layoffs: (Canada) & fear\\_value\\\\\n",
       "  & <date> & <dbl> & <dbl> & <dbl> & <dbl>\\\\\n",
       "\\hline\n",
       "\t1 & 2004-01-01 & 24 & 3 & 6 & 11.000000\\\\\n",
       "\t2 & 2004-02-01 & 14 & 0 & 8 &  7.333333\\\\\n",
       "\t3 & 2004-03-01 & 23 & 0 & 8 & 10.333333\\\\\n",
       "\t4 & 2004-04-01 & 36 & 4 & 8 & 16.000000\\\\\n",
       "\t5 & 2004-05-01 & 28 & 3 & 5 & 12.000000\\\\\n",
       "\t6 & 2004-06-01 & 18 & 0 & 0 &  6.000000\\\\\n",
       "\\end{tabular}\n"
      ],
      "text/markdown": [
       "\n",
       "A data.frame: 6 × 5\n",
       "\n",
       "| <!--/--> | term_date &lt;date&gt; | stock crash: (Canada) &lt;dbl&gt; | recession: (Canada) &lt;dbl&gt; | layoffs: (Canada) &lt;dbl&gt; | fear_value &lt;dbl&gt; |\n",
       "|---|---|---|---|---|---|\n",
       "| 1 | 2004-01-01 | 24 | 3 | 6 | 11.000000 |\n",
       "| 2 | 2004-02-01 | 14 | 0 | 8 |  7.333333 |\n",
       "| 3 | 2004-03-01 | 23 | 0 | 8 | 10.333333 |\n",
       "| 4 | 2004-04-01 | 36 | 4 | 8 | 16.000000 |\n",
       "| 5 | 2004-05-01 | 28 | 3 | 5 | 12.000000 |\n",
       "| 6 | 2004-06-01 | 18 | 0 | 0 |  6.000000 |\n",
       "\n"
      ],
      "text/plain": [
       "  term_date  stock crash: (Canada) recession: (Canada) layoffs: (Canada)\n",
       "1 2004-01-01 24                    3                   6                \n",
       "2 2004-02-01 14                    0                   8                \n",
       "3 2004-03-01 23                    0                   8                \n",
       "4 2004-04-01 36                    4                   8                \n",
       "5 2004-05-01 28                    3                   5                \n",
       "6 2004-06-01 18                    0                   0                \n",
       "  fear_value\n",
       "1 11.000000 \n",
       "2  7.333333 \n",
       "3 10.333333 \n",
       "4 16.000000 \n",
       "5 12.000000 \n",
       "6  6.000000 "
      ]
     },
     "metadata": {},
     "output_type": "display_data"
    }
   ],
   "source": [
    "#Creating fear index\n",
    "fear_index <- cbind(stock_crash_tidy, recession_tidy, layoffs_tidy) |>\n",
    "  mutate(term_date = term_date1) |>\n",
    "  select(term_date, `stock crash: (Canada)`, \n",
    "         `recession: (Canada)`,\n",
    "         `layoffs: (Canada)`) |>\n",
    "  mutate(fear_value = (`stock crash: (Canada)` + `recession: (Canada)` +\n",
    "                         `layoffs: (Canada)`) / 3) \n",
    "head(fear_index)"
   ]
  },
  {
   "cell_type": "markdown",
   "id": "44b06e48-4fe2-4fc5-80c6-4ef6fc98b34c",
   "metadata": {},
   "source": [
    "We will now make a new understanding of how to interpret these new values for `fear_value` using `quantile` to look at the percentiles of data"
   ]
  },
  {
   "cell_type": "code",
   "execution_count": 4,
   "id": "7d4a7960-9226-4243-abff-f6d7b1fabd71",
   "metadata": {},
   "outputs": [
    {
     "data": {
      "text/html": [
       "<style>\n",
       ".dl-inline {width: auto; margin:0; padding: 0}\n",
       ".dl-inline>dt, .dl-inline>dd {float: none; width: auto; display: inline-block}\n",
       ".dl-inline>dt::after {content: \":\\0020\"; padding-right: .5ex}\n",
       ".dl-inline>dt:not(:first-of-type) {padding-left: .5ex}\n",
       "</style><dl class=dl-inline><dt>25%</dt><dd>9.66666666666667</dd><dt>50%</dt><dd>13</dd><dt>75%</dt><dd>20.6666666666667</dd><dt>90%</dt><dd>31</dd><dt>95%</dt><dd>39.4166666666667</dd><dt>99%</dt><dd>49.35</dd></dl>\n"
      ],
      "text/latex": [
       "\\begin{description*}\n",
       "\\item[25\\textbackslash{}\\%] 9.66666666666667\n",
       "\\item[50\\textbackslash{}\\%] 13\n",
       "\\item[75\\textbackslash{}\\%] 20.6666666666667\n",
       "\\item[90\\textbackslash{}\\%] 31\n",
       "\\item[95\\textbackslash{}\\%] 39.4166666666667\n",
       "\\item[99\\textbackslash{}\\%] 49.35\n",
       "\\end{description*}\n"
      ],
      "text/markdown": [
       "25%\n",
       ":   9.6666666666666750%\n",
       ":   1375%\n",
       ":   20.666666666666790%\n",
       ":   3195%\n",
       ":   39.416666666666799%\n",
       ":   49.35\n",
       "\n"
      ],
      "text/plain": [
       "      25%       50%       75%       90%       95%       99% \n",
       " 9.666667 13.000000 20.666667 31.000000 39.416667 49.350000 "
      ]
     },
     "metadata": {},
     "output_type": "display_data"
    }
   ],
   "source": [
    "fear_metrics <- quantile(fear_index$fear_value, \n",
    "                         probs = c(0.25, 0.5, 0.75, 0.90, 0.95, 0.99)) \n",
    "fear_metrics"
   ]
  },
  {
   "cell_type": "markdown",
   "id": "f32b6446-7c00-40e5-bddb-4051f1deb742",
   "metadata": {},
   "source": [
    "Based on the data, our interpretation for the **fear index** will go as follows: \n",
    "\n",
    "- **0-20**  is a low fear value\n",
    "- **20-40** is a moderate fear value\n",
    "- **40-50** is a high fear value\n",
    "- **50+**   is an extremely high fear value\n"
   ]
  },
  {
   "cell_type": "markdown",
   "id": "b276a566-0d31-404e-b7ce-d342795b9ce5",
   "metadata": {},
   "source": [
    "### Stock Performance Wrangling"
   ]
  },
  {
   "cell_type": "markdown",
   "id": "b50866b8-2b1d-48cc-a202-470d3f57cb87",
   "metadata": {},
   "source": [
    "We will quantify **stock performance** by looking at the **growth rate** of the overall stock market. In this study we will use the **S&P/TSX Composite Index** as our benchmark for the overall stock market, tracking **monthly** growth data in order to see how the market is performing. To view this, we will use data from **yahoo finance** through the library `quantmod`, which gives time-series data on any stock found on the market. Then we will use the `tidyverse` library to further wrangle and clean up the data."
   ]
  },
  {
   "cell_type": "markdown",
   "id": "c7dd87c6-28cd-449e-952e-7b6076205c8d",
   "metadata": {},
   "source": [
    "First let's load the `quantmod` library"
   ]
  },
  {
   "cell_type": "code",
   "execution_count": 5,
   "id": "f0e3bcbd-0078-43ad-914e-be23f4a18485",
   "metadata": {},
   "outputs": [
    {
     "name": "stderr",
     "output_type": "stream",
     "text": [
      "Loading required package: xts\n",
      "\n",
      "Loading required package: zoo\n",
      "\n",
      "\n",
      "Attaching package: ‘zoo’\n",
      "\n",
      "\n",
      "The following objects are masked from ‘package:base’:\n",
      "\n",
      "    as.Date, as.Date.numeric\n",
      "\n",
      "\n",
      "\n",
      "######################### Warning from 'xts' package ##########################\n",
      "#                                                                             #\n",
      "# The dplyr lag() function breaks how base R's lag() function is supposed to  #\n",
      "# work, which breaks lag(my_xts). Calls to lag(my_xts) that you type or       #\n",
      "# source() into this session won't work correctly.                            #\n",
      "#                                                                             #\n",
      "# Use stats::lag() to make sure you're not using dplyr::lag(), or you can add #\n",
      "# conflictRules('dplyr', exclude = 'lag') to your .Rprofile to stop           #\n",
      "# dplyr from breaking base R's lag() function.                                #\n",
      "#                                                                             #\n",
      "# Code in packages is not affected. It's protected by R's namespace mechanism #\n",
      "# Set `options(xts.warn_dplyr_breaks_lag = FALSE)` to suppress this warning.  #\n",
      "#                                                                             #\n",
      "###############################################################################\n",
      "\n",
      "\n",
      "Attaching package: ‘xts’\n",
      "\n",
      "\n",
      "The following objects are masked from ‘package:dplyr’:\n",
      "\n",
      "    first, last\n",
      "\n",
      "\n",
      "Loading required package: TTR\n",
      "\n",
      "Registered S3 method overwritten by 'quantmod':\n",
      "  method            from\n",
      "  as.zoo.data.frame zoo \n",
      "\n"
     ]
    }
   ],
   "source": [
    "library(quantmod)"
   ]
  },
  {
   "cell_type": "markdown",
   "id": "375b641c-8f34-48b0-81ca-4a756eba7057",
   "metadata": {},
   "source": [
    "Now we import our stock performance data, keeping it in **monthly** increments and using **closing** values"
   ]
  },
  {
   "cell_type": "code",
   "execution_count": 6,
   "id": "360c2dd3-2a3d-4262-8491-71d2b435f7a6",
   "metadata": {},
   "outputs": [
    {
     "name": "stderr",
     "output_type": "stream",
     "text": [
      "Warning message:\n",
      "“^GSPTSE contains missing values. Some functions will not work if objects contain missing values in the middle of the series. Consider using na.omit(), na.approx(), na.fill(), etc to remove or replace them.”\n"
     ]
    },
    {
     "data": {
      "text/html": [
       "'GSPTSE'"
      ],
      "text/latex": [
       "'GSPTSE'"
      ],
      "text/markdown": [
       "'GSPTSE'"
      ],
      "text/plain": [
       "[1] \"GSPTSE\""
      ]
     },
     "metadata": {},
     "output_type": "display_data"
    },
    {
     "name": "stderr",
     "output_type": "stream",
     "text": [
      "Warning message in to.period(x, \"months\", indexAt = indexAt, name = name, ...):\n",
      "“missing values removed from data”\n"
     ]
    },
    {
     "data": {
      "text/html": [
       "<table class=\"dataframe\">\n",
       "<caption>A data.frame: 6 × 2</caption>\n",
       "<thead>\n",
       "\t<tr><th></th><th scope=col>Date</th><th scope=col>GSPTSE.Close</th></tr>\n",
       "\t<tr><th></th><th scope=col>&lt;date&gt;</th><th scope=col>&lt;dbl&gt;</th></tr>\n",
       "</thead>\n",
       "<tbody>\n",
       "\t<tr><th scope=row>1</th><td>2004-01-01</td><td>8521.4</td></tr>\n",
       "\t<tr><th scope=row>2</th><td>2004-02-01</td><td>8788.5</td></tr>\n",
       "\t<tr><th scope=row>3</th><td>2004-03-01</td><td>8585.9</td></tr>\n",
       "\t<tr><th scope=row>4</th><td>2004-04-01</td><td>8244.0</td></tr>\n",
       "\t<tr><th scope=row>5</th><td>2004-05-01</td><td>8417.3</td></tr>\n",
       "\t<tr><th scope=row>6</th><td>2004-06-01</td><td>8545.6</td></tr>\n",
       "</tbody>\n",
       "</table>\n"
      ],
      "text/latex": [
       "A data.frame: 6 × 2\n",
       "\\begin{tabular}{r|ll}\n",
       "  & Date & GSPTSE.Close\\\\\n",
       "  & <date> & <dbl>\\\\\n",
       "\\hline\n",
       "\t1 & 2004-01-01 & 8521.4\\\\\n",
       "\t2 & 2004-02-01 & 8788.5\\\\\n",
       "\t3 & 2004-03-01 & 8585.9\\\\\n",
       "\t4 & 2004-04-01 & 8244.0\\\\\n",
       "\t5 & 2004-05-01 & 8417.3\\\\\n",
       "\t6 & 2004-06-01 & 8545.6\\\\\n",
       "\\end{tabular}\n"
      ],
      "text/markdown": [
       "\n",
       "A data.frame: 6 × 2\n",
       "\n",
       "| <!--/--> | Date &lt;date&gt; | GSPTSE.Close &lt;dbl&gt; |\n",
       "|---|---|---|\n",
       "| 1 | 2004-01-01 | 8521.4 |\n",
       "| 2 | 2004-02-01 | 8788.5 |\n",
       "| 3 | 2004-03-01 | 8585.9 |\n",
       "| 4 | 2004-04-01 | 8244.0 |\n",
       "| 5 | 2004-05-01 | 8417.3 |\n",
       "| 6 | 2004-06-01 | 8545.6 |\n",
       "\n"
      ],
      "text/plain": [
       "  Date       GSPTSE.Close\n",
       "1 2004-01-01 8521.4      \n",
       "2 2004-02-01 8788.5      \n",
       "3 2004-03-01 8585.9      \n",
       "4 2004-04-01 8244.0      \n",
       "5 2004-05-01 8417.3      \n",
       "6 2004-06-01 8545.6      "
      ]
     },
     "metadata": {},
     "output_type": "display_data"
    }
   ],
   "source": [
    "#Raw data\n",
    "getSymbols(\"^GSPTSE\", src = \"yahoo\", from = \"2004-01-01\", to = \"2025-04-02\")\n",
    "stock_monthly_untidy <- to.monthly(GSPTSE, indexAt = \"firstof\", OHLC = TRUE) \n",
    "\n",
    "#Cleaning data \n",
    "stock_monthly_tidy <- fortify.zoo(stock_monthly_untidy) |>\n",
    "  mutate(Date = Index) |>\n",
    "  select(Date, GSPTSE.Close)\n",
    "head(stock_monthly_tidy)"
   ]
  },
  {
   "cell_type": "markdown",
   "id": "0ea3fc0d-2fe2-4dab-8fee-e261bfebfcc8",
   "metadata": {},
   "source": [
    "We convert these price values into **growth rates** so we can see how much the stock price is changing each month"
   ]
  },
  {
   "cell_type": "code",
   "execution_count": 7,
   "id": "d7225beb-4fd4-43fa-b8a0-e7a15f553378",
   "metadata": {},
   "outputs": [
    {
     "data": {
      "text/html": [
       "<table class=\"dataframe\">\n",
       "<caption>A data.frame: 6 × 3</caption>\n",
       "<thead>\n",
       "\t<tr><th></th><th scope=col>Date</th><th scope=col>GSPTSE.Close</th><th scope=col>stock_growth</th></tr>\n",
       "\t<tr><th></th><th scope=col>&lt;date&gt;</th><th scope=col>&lt;dbl&gt;</th><th scope=col>&lt;dbl&gt;</th></tr>\n",
       "</thead>\n",
       "<tbody>\n",
       "\t<tr><th scope=row>1</th><td>2004-01-01</td><td>8521.4</td><td>       NA</td></tr>\n",
       "\t<tr><th scope=row>2</th><td>2004-02-01</td><td>8788.5</td><td> 3.134457</td></tr>\n",
       "\t<tr><th scope=row>3</th><td>2004-03-01</td><td>8585.9</td><td>-2.305281</td></tr>\n",
       "\t<tr><th scope=row>4</th><td>2004-04-01</td><td>8244.0</td><td>-3.982115</td></tr>\n",
       "\t<tr><th scope=row>5</th><td>2004-05-01</td><td>8417.3</td><td> 2.102133</td></tr>\n",
       "\t<tr><th scope=row>6</th><td>2004-06-01</td><td>8545.6</td><td> 1.524239</td></tr>\n",
       "</tbody>\n",
       "</table>\n"
      ],
      "text/latex": [
       "A data.frame: 6 × 3\n",
       "\\begin{tabular}{r|lll}\n",
       "  & Date & GSPTSE.Close & stock\\_growth\\\\\n",
       "  & <date> & <dbl> & <dbl>\\\\\n",
       "\\hline\n",
       "\t1 & 2004-01-01 & 8521.4 &        NA\\\\\n",
       "\t2 & 2004-02-01 & 8788.5 &  3.134457\\\\\n",
       "\t3 & 2004-03-01 & 8585.9 & -2.305281\\\\\n",
       "\t4 & 2004-04-01 & 8244.0 & -3.982115\\\\\n",
       "\t5 & 2004-05-01 & 8417.3 &  2.102133\\\\\n",
       "\t6 & 2004-06-01 & 8545.6 &  1.524239\\\\\n",
       "\\end{tabular}\n"
      ],
      "text/markdown": [
       "\n",
       "A data.frame: 6 × 3\n",
       "\n",
       "| <!--/--> | Date &lt;date&gt; | GSPTSE.Close &lt;dbl&gt; | stock_growth &lt;dbl&gt; |\n",
       "|---|---|---|---|\n",
       "| 1 | 2004-01-01 | 8521.4 |        NA |\n",
       "| 2 | 2004-02-01 | 8788.5 |  3.134457 |\n",
       "| 3 | 2004-03-01 | 8585.9 | -2.305281 |\n",
       "| 4 | 2004-04-01 | 8244.0 | -3.982115 |\n",
       "| 5 | 2004-05-01 | 8417.3 |  2.102133 |\n",
       "| 6 | 2004-06-01 | 8545.6 |  1.524239 |\n",
       "\n"
      ],
      "text/plain": [
       "  Date       GSPTSE.Close stock_growth\n",
       "1 2004-01-01 8521.4              NA   \n",
       "2 2004-02-01 8788.5        3.134457   \n",
       "3 2004-03-01 8585.9       -2.305281   \n",
       "4 2004-04-01 8244.0       -3.982115   \n",
       "5 2004-05-01 8417.3        2.102133   \n",
       "6 2004-06-01 8545.6        1.524239   "
      ]
     },
     "metadata": {},
     "output_type": "display_data"
    }
   ],
   "source": [
    "#Growth rates in percentages\n",
    "stock_monthly_growth <- stock_monthly_tidy |>\n",
    "  mutate(stock_growth = \n",
    "           ((GSPTSE.Close - lag(GSPTSE.Close)) / lag(GSPTSE.Close)) * 100)\n",
    "head(stock_monthly_growth) "
   ]
  },
  {
   "cell_type": "markdown",
   "id": "ff61617b-6de2-44a5-b7a8-c719086b72d7",
   "metadata": {},
   "source": [
    "### Combining The Two Variables "
   ]
  },
  {
   "cell_type": "markdown",
   "id": "5718a2ee-ff11-4379-911b-43923dddbb6e",
   "metadata": {},
   "source": [
    "Now that we have properly obtained our data for both variables, we will combine the two variables within the same dataset, **lagging** our `fear_value` by **1 month**. This is in order to avoid instances of **reverse causality** so that we can see if `fear_value` is actually **leading** to changes in the stock market performance rather than the other way around. "
   ]
  },
  {
   "cell_type": "code",
   "execution_count": 8,
   "id": "a3f2ed88-9d82-4e48-ac6a-a23f37746bbb",
   "metadata": {},
   "outputs": [
    {
     "data": {
      "text/html": [
       "<table class=\"dataframe\">\n",
       "<caption>A data.frame: 6 × 3</caption>\n",
       "<thead>\n",
       "\t<tr><th></th><th scope=col>Date</th><th scope=col>stock_growth</th><th scope=col>lagged_fear_value</th></tr>\n",
       "\t<tr><th></th><th scope=col>&lt;date&gt;</th><th scope=col>&lt;dbl&gt;</th><th scope=col>&lt;dbl&gt;</th></tr>\n",
       "</thead>\n",
       "<tbody>\n",
       "\t<tr><th scope=row>1</th><td>2004-03-01</td><td>-2.3052809</td><td> 7.333333</td></tr>\n",
       "\t<tr><th scope=row>2</th><td>2004-04-01</td><td>-3.9821146</td><td>10.333333</td></tr>\n",
       "\t<tr><th scope=row>3</th><td>2004-05-01</td><td> 2.1021325</td><td>16.000000</td></tr>\n",
       "\t<tr><th scope=row>4</th><td>2004-06-01</td><td> 1.5242395</td><td>12.000000</td></tr>\n",
       "\t<tr><th scope=row>5</th><td>2004-07-01</td><td>-1.0239188</td><td> 6.000000</td></tr>\n",
       "\t<tr><th scope=row>6</th><td>2004-08-01</td><td>-0.9588396</td><td> 0.000000</td></tr>\n",
       "</tbody>\n",
       "</table>\n"
      ],
      "text/latex": [
       "A data.frame: 6 × 3\n",
       "\\begin{tabular}{r|lll}\n",
       "  & Date & stock\\_growth & lagged\\_fear\\_value\\\\\n",
       "  & <date> & <dbl> & <dbl>\\\\\n",
       "\\hline\n",
       "\t1 & 2004-03-01 & -2.3052809 &  7.333333\\\\\n",
       "\t2 & 2004-04-01 & -3.9821146 & 10.333333\\\\\n",
       "\t3 & 2004-05-01 &  2.1021325 & 16.000000\\\\\n",
       "\t4 & 2004-06-01 &  1.5242395 & 12.000000\\\\\n",
       "\t5 & 2004-07-01 & -1.0239188 &  6.000000\\\\\n",
       "\t6 & 2004-08-01 & -0.9588396 &  0.000000\\\\\n",
       "\\end{tabular}\n"
      ],
      "text/markdown": [
       "\n",
       "A data.frame: 6 × 3\n",
       "\n",
       "| <!--/--> | Date &lt;date&gt; | stock_growth &lt;dbl&gt; | lagged_fear_value &lt;dbl&gt; |\n",
       "|---|---|---|---|\n",
       "| 1 | 2004-03-01 | -2.3052809 |  7.333333 |\n",
       "| 2 | 2004-04-01 | -3.9821146 | 10.333333 |\n",
       "| 3 | 2004-05-01 |  2.1021325 | 16.000000 |\n",
       "| 4 | 2004-06-01 |  1.5242395 | 12.000000 |\n",
       "| 5 | 2004-07-01 | -1.0239188 |  6.000000 |\n",
       "| 6 | 2004-08-01 | -0.9588396 |  0.000000 |\n",
       "\n"
      ],
      "text/plain": [
       "  Date       stock_growth lagged_fear_value\n",
       "1 2004-03-01 -2.3052809    7.333333        \n",
       "2 2004-04-01 -3.9821146   10.333333        \n",
       "3 2004-05-01  2.1021325   16.000000        \n",
       "4 2004-06-01  1.5242395   12.000000        \n",
       "5 2004-07-01 -1.0239188    6.000000        \n",
       "6 2004-08-01 -0.9588396    0.000000        "
      ]
     },
     "metadata": {},
     "output_type": "display_data"
    }
   ],
   "source": [
    "#Combine fear index with stock performance data, lag the values by 1 month\n",
    "stock_fear_data_untidy <- cbind(stock_monthly_growth, fear_index) |>\n",
    "  select(Date, stock_growth, fear_value) |>\n",
    "  filter(!is.na(stock_growth)) |>\n",
    "  mutate(lagged_fear_value = lag(fear_value, n = 1))  \n",
    "\n",
    "#Clean the Data By Removing NAs \n",
    "stock_fear_data_tidy <- stock_fear_data_untidy |>\n",
    "  filter(!is.na(lagged_fear_value)) |>\n",
    "  select(Date, stock_growth, lagged_fear_value) \n",
    "head(stock_fear_data_tidy) "
   ]
  },
  {
   "cell_type": "markdown",
   "id": "7b5d28a0-4ed4-4be0-8044-e06390db28a7",
   "metadata": {},
   "source": [
    "## <u>Summary Statistics<u> "
   ]
  },
  {
   "cell_type": "code",
   "execution_count": null,
   "id": "7e35714c-089c-45ce-b052-92fbbc202572",
   "metadata": {},
   "outputs": [],
   "source": []
  },
  {
   "cell_type": "markdown",
   "id": "9a60bb20-8670-4340-9e57-9b5987e8aed1",
   "metadata": {},
   "source": [
    "## <u>Model Specification<u>"
   ]
  },
  {
   "cell_type": "code",
   "execution_count": null,
   "id": "3bdd1bae-519c-4c92-89b3-52ccf4d29377",
   "metadata": {},
   "outputs": [],
   "source": []
  },
  {
   "cell_type": "markdown",
   "id": "f7310533-be5c-4e40-a3f3-dca5d6be285a",
   "metadata": {},
   "source": [
    "## <u>Table of Results<u>"
   ]
  },
  {
   "cell_type": "code",
   "execution_count": null,
   "id": "fc417dd8-c4ed-4304-a5c6-f1b7d3a7c656",
   "metadata": {},
   "outputs": [],
   "source": []
  },
  {
   "cell_type": "markdown",
   "id": "7cd54dc0-ca1a-4016-8442-5f9dae789dfe",
   "metadata": {},
   "source": [
    "## <u>Discussion<u>"
   ]
  },
  {
   "cell_type": "code",
   "execution_count": null,
   "id": "c1d0807f-7da7-4ed7-be80-8f34bc56c38f",
   "metadata": {},
   "outputs": [],
   "source": []
  },
  {
   "cell_type": "markdown",
   "id": "d472aa7b-3cb6-443e-bc25-9ebd548c7bd9",
   "metadata": {},
   "source": [
    "## <u>Specification Check<u>"
   ]
  },
  {
   "cell_type": "code",
   "execution_count": null,
   "id": "bb038025-e323-4164-8662-47903d6ba68e",
   "metadata": {},
   "outputs": [],
   "source": []
  },
  {
   "cell_type": "markdown",
   "id": "03ee2244-2d62-4fa4-ad45-90f42b98d16f",
   "metadata": {},
   "source": [
    "## <u>Robustness Analysis<u>"
   ]
  },
  {
   "cell_type": "code",
   "execution_count": null,
   "id": "4c347c9a-09d3-494e-80df-0f358c46e165",
   "metadata": {},
   "outputs": [],
   "source": []
  },
  {
   "cell_type": "markdown",
   "id": "5556848c-f703-41aa-a0e5-173a9713398f",
   "metadata": {},
   "source": [
    "## <u>Conclusion<u>"
   ]
  },
  {
   "cell_type": "code",
   "execution_count": null,
   "id": "49d1e454-bcaa-4860-beb4-275033181923",
   "metadata": {},
   "outputs": [],
   "source": []
  },
  {
   "cell_type": "markdown",
   "id": "0a5c8dd6-d3ea-441f-b5cd-f4f71138135a",
   "metadata": {},
   "source": [
    "## <u>References<u>"
   ]
  },
  {
   "cell_type": "code",
   "execution_count": null,
   "id": "f9c2b31b-39c8-4fd4-bd4a-0ef90846091c",
   "metadata": {},
   "outputs": [],
   "source": []
  }
 ],
 "metadata": {
  "kernelspec": {
   "display_name": "R",
   "language": "R",
   "name": "ir"
  },
  "language_info": {
   "codemirror_mode": "r",
   "file_extension": ".r",
   "mimetype": "text/x-r-source",
   "name": "R",
   "pygments_lexer": "r",
   "version": "4.4.1"
  }
 },
 "nbformat": 4,
 "nbformat_minor": 5
}
