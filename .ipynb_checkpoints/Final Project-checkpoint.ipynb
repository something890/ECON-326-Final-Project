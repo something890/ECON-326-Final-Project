{
 "cells": [
  {
   "cell_type": "markdown",
   "id": "8f80b1a0-449d-45a3-9dcb-816cd6d7930e",
   "metadata": {},
   "source": [
    "# ECON 326 Group Final Report\n",
    "#### Group 14 - Bhavya Dubey, Kashie Ugoji, Ruiquin Wang, Zhuoying Sun"
   ]
  },
  {
   "cell_type": "markdown",
   "id": "6d6d65bb-26c8-45ae-b6fd-69a1df6f8e28",
   "metadata": {},
   "source": [
    "## <u>Introduction<u>"
   ]
  },
  {
   "cell_type": "markdown",
   "id": "ad88ac84-f7bc-4467-8ec5-e948c3eb8036",
   "metadata": {},
   "source": [
    "When looking at the current nature of the financial markets, it is clear how much influence they have in our society. With around 63% of young adults (ages 18-34) **(remember to cite)** believing in building their wealth through the stock exchange, it shows how much of a focal point this aspect of our economy is for many people. "
   ]
  },
  {
   "cell_type": "markdown",
   "id": "8c0dced4-f574-47ea-828b-42463c0710e7",
   "metadata": {},
   "source": [
    "## <u>Data Description<u>"
   ]
  },
  {
   "cell_type": "markdown",
   "id": "4fbb1d27-b124-48e5-9279-f25e944c1d12",
   "metadata": {},
   "source": []
  },
  {
   "cell_type": "markdown",
   "id": "7b5d28a0-4ed4-4be0-8044-e06390db28a7",
   "metadata": {},
   "source": [
    "## <u>Summary Statistics<u> "
   ]
  },
  {
   "cell_type": "code",
   "execution_count": null,
   "id": "7e35714c-089c-45ce-b052-92fbbc202572",
   "metadata": {},
   "outputs": [],
   "source": []
  },
  {
   "cell_type": "markdown",
   "id": "9a60bb20-8670-4340-9e57-9b5987e8aed1",
   "metadata": {},
   "source": [
    "## <u>Model Specification<u>"
   ]
  },
  {
   "cell_type": "code",
   "execution_count": null,
   "id": "3bdd1bae-519c-4c92-89b3-52ccf4d29377",
   "metadata": {},
   "outputs": [],
   "source": []
  },
  {
   "cell_type": "markdown",
   "id": "f7310533-be5c-4e40-a3f3-dca5d6be285a",
   "metadata": {},
   "source": [
    "## <u>Table of Results<u>"
   ]
  },
  {
   "cell_type": "code",
   "execution_count": null,
   "id": "fc417dd8-c4ed-4304-a5c6-f1b7d3a7c656",
   "metadata": {},
   "outputs": [],
   "source": []
  },
  {
   "cell_type": "markdown",
   "id": "7cd54dc0-ca1a-4016-8442-5f9dae789dfe",
   "metadata": {},
   "source": [
    "## <u>Discussion<u>"
   ]
  },
  {
   "cell_type": "code",
   "execution_count": null,
   "id": "c1d0807f-7da7-4ed7-be80-8f34bc56c38f",
   "metadata": {},
   "outputs": [],
   "source": []
  },
  {
   "cell_type": "markdown",
   "id": "d472aa7b-3cb6-443e-bc25-9ebd548c7bd9",
   "metadata": {},
   "source": [
    "## <u>Specification Check<u>"
   ]
  },
  {
   "cell_type": "code",
   "execution_count": null,
   "id": "bb038025-e323-4164-8662-47903d6ba68e",
   "metadata": {},
   "outputs": [],
   "source": []
  },
  {
   "cell_type": "markdown",
   "id": "03ee2244-2d62-4fa4-ad45-90f42b98d16f",
   "metadata": {},
   "source": [
    "## <u>Robustness Analysis<u>"
   ]
  },
  {
   "cell_type": "code",
   "execution_count": null,
   "id": "4c347c9a-09d3-494e-80df-0f358c46e165",
   "metadata": {},
   "outputs": [],
   "source": []
  },
  {
   "cell_type": "markdown",
   "id": "5556848c-f703-41aa-a0e5-173a9713398f",
   "metadata": {},
   "source": [
    "## <u>Conclusion<u>"
   ]
  },
  {
   "cell_type": "code",
   "execution_count": null,
   "id": "49d1e454-bcaa-4860-beb4-275033181923",
   "metadata": {},
   "outputs": [],
   "source": []
  },
  {
   "cell_type": "markdown",
   "id": "0a5c8dd6-d3ea-441f-b5cd-f4f71138135a",
   "metadata": {},
   "source": [
    "## <u>References<u>"
   ]
  },
  {
   "cell_type": "code",
   "execution_count": null,
   "id": "f9c2b31b-39c8-4fd4-bd4a-0ef90846091c",
   "metadata": {},
   "outputs": [],
   "source": []
  }
 ],
 "metadata": {
  "kernelspec": {
   "display_name": "R",
   "language": "R",
   "name": "ir"
  },
  "language_info": {
   "codemirror_mode": "r",
   "file_extension": ".r",
   "mimetype": "text/x-r-source",
   "name": "R",
   "pygments_lexer": "r",
   "version": "4.4.1"
  }
 },
 "nbformat": 4,
 "nbformat_minor": 5
}
